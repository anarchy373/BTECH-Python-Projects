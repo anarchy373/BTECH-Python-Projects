{
  "nbformat": 4,
  "nbformat_minor": 0,
  "metadata": {
    "colab": {
      "provenance": [],
      "authorship_tag": "ABX9TyPrqr6csl7Fs+4uMz9C2e1/",
      "include_colab_link": true
    },
    "kernelspec": {
      "name": "python3",
      "display_name": "Python 3"
    },
    "language_info": {
      "name": "python"
    }
  },
  "cells": [
    {
      "cell_type": "markdown",
      "metadata": {
        "id": "view-in-github",
        "colab_type": "text"
      },
      "source": [
        "<a href=\"https://colab.research.google.com/github/anarchy373/BTECH-Python-Projects/blob/main/Python_Module_4_Practice.ipynb\" target=\"_parent\"><img src=\"https://colab.research.google.com/assets/colab-badge.svg\" alt=\"Open In Colab\"/></a>"
      ]
    },
    {
      "cell_type": "code",
      "execution_count": null,
      "metadata": {
        "id": "iAhGkEptDBtr"
      },
      "outputs": [],
      "source": [
        "import pandas as pd\n",
        "df = pd.read_csv('Rankings_2022.csv')"
      ]
    },
    {
      "cell_type": "code",
      "source": [
        "df.head()"
      ],
      "metadata": {
        "colab": {
          "base_uri": "https://localhost:8080/",
          "height": 206
        },
        "id": "7Wico-irDpU3",
        "outputId": "6e699660-9ce7-4ab8-d6e5-564486416136"
      },
      "execution_count": null,
      "outputs": [
        {
          "output_type": "execute_result",
          "data": {
            "text/plain": [
              "   rank                name        country_name country_id  points  bestRank  \\\n",
              "0     1      Novak Djokovic              Serbia        SRB   11015         1   \n",
              "1     2     Daniil Medvedev  Russian Federation        RUS   10125         2   \n",
              "2     3    Alexander Zverev             Germany        GER    7780         3   \n",
              "3     4  Stefanos Tsitsipas              Greece        GRE    7170         3   \n",
              "4     5        Rafael Nadal               Spain        ESP    6875         1   \n",
              "\n",
              "  bestRankDate  rankDiff  pointsDiff  bestPoints  \n",
              "0   2011-07-04       0.0         0.0       16950  \n",
              "1   2021-03-15       0.0      1190.0       10780  \n",
              "2   2017-11-06       0.0      -190.0        8240  \n",
              "3   2021-08-09       0.0       630.0        8350  \n",
              "4   2008-08-18       0.0      2000.0       15390  "
            ],
            "text/html": [
              "\n",
              "  <div id=\"df-d26248a7-c085-4b2f-8f1d-1ba5e8f14582\" class=\"colab-df-container\">\n",
              "    <div>\n",
              "<style scoped>\n",
              "    .dataframe tbody tr th:only-of-type {\n",
              "        vertical-align: middle;\n",
              "    }\n",
              "\n",
              "    .dataframe tbody tr th {\n",
              "        vertical-align: top;\n",
              "    }\n",
              "\n",
              "    .dataframe thead th {\n",
              "        text-align: right;\n",
              "    }\n",
              "</style>\n",
              "<table border=\"1\" class=\"dataframe\">\n",
              "  <thead>\n",
              "    <tr style=\"text-align: right;\">\n",
              "      <th></th>\n",
              "      <th>rank</th>\n",
              "      <th>name</th>\n",
              "      <th>country_name</th>\n",
              "      <th>country_id</th>\n",
              "      <th>points</th>\n",
              "      <th>bestRank</th>\n",
              "      <th>bestRankDate</th>\n",
              "      <th>rankDiff</th>\n",
              "      <th>pointsDiff</th>\n",
              "      <th>bestPoints</th>\n",
              "    </tr>\n",
              "  </thead>\n",
              "  <tbody>\n",
              "    <tr>\n",
              "      <th>0</th>\n",
              "      <td>1</td>\n",
              "      <td>Novak Djokovic</td>\n",
              "      <td>Serbia</td>\n",
              "      <td>SRB</td>\n",
              "      <td>11015</td>\n",
              "      <td>1</td>\n",
              "      <td>2011-07-04</td>\n",
              "      <td>0.0</td>\n",
              "      <td>0.0</td>\n",
              "      <td>16950</td>\n",
              "    </tr>\n",
              "    <tr>\n",
              "      <th>1</th>\n",
              "      <td>2</td>\n",
              "      <td>Daniil Medvedev</td>\n",
              "      <td>Russian Federation</td>\n",
              "      <td>RUS</td>\n",
              "      <td>10125</td>\n",
              "      <td>2</td>\n",
              "      <td>2021-03-15</td>\n",
              "      <td>0.0</td>\n",
              "      <td>1190.0</td>\n",
              "      <td>10780</td>\n",
              "    </tr>\n",
              "    <tr>\n",
              "      <th>2</th>\n",
              "      <td>3</td>\n",
              "      <td>Alexander Zverev</td>\n",
              "      <td>Germany</td>\n",
              "      <td>GER</td>\n",
              "      <td>7780</td>\n",
              "      <td>3</td>\n",
              "      <td>2017-11-06</td>\n",
              "      <td>0.0</td>\n",
              "      <td>-190.0</td>\n",
              "      <td>8240</td>\n",
              "    </tr>\n",
              "    <tr>\n",
              "      <th>3</th>\n",
              "      <td>4</td>\n",
              "      <td>Stefanos Tsitsipas</td>\n",
              "      <td>Greece</td>\n",
              "      <td>GRE</td>\n",
              "      <td>7170</td>\n",
              "      <td>3</td>\n",
              "      <td>2021-08-09</td>\n",
              "      <td>0.0</td>\n",
              "      <td>630.0</td>\n",
              "      <td>8350</td>\n",
              "    </tr>\n",
              "    <tr>\n",
              "      <th>4</th>\n",
              "      <td>5</td>\n",
              "      <td>Rafael Nadal</td>\n",
              "      <td>Spain</td>\n",
              "      <td>ESP</td>\n",
              "      <td>6875</td>\n",
              "      <td>1</td>\n",
              "      <td>2008-08-18</td>\n",
              "      <td>0.0</td>\n",
              "      <td>2000.0</td>\n",
              "      <td>15390</td>\n",
              "    </tr>\n",
              "  </tbody>\n",
              "</table>\n",
              "</div>\n",
              "    <div class=\"colab-df-buttons\">\n",
              "\n",
              "  <div class=\"colab-df-container\">\n",
              "    <button class=\"colab-df-convert\" onclick=\"convertToInteractive('df-d26248a7-c085-4b2f-8f1d-1ba5e8f14582')\"\n",
              "            title=\"Convert this dataframe to an interactive table.\"\n",
              "            style=\"display:none;\">\n",
              "\n",
              "  <svg xmlns=\"http://www.w3.org/2000/svg\" height=\"24px\" viewBox=\"0 -960 960 960\">\n",
              "    <path d=\"M120-120v-720h720v720H120Zm60-500h600v-160H180v160Zm220 220h160v-160H400v160Zm0 220h160v-160H400v160ZM180-400h160v-160H180v160Zm440 0h160v-160H620v160ZM180-180h160v-160H180v160Zm440 0h160v-160H620v160Z\"/>\n",
              "  </svg>\n",
              "    </button>\n",
              "\n",
              "  <style>\n",
              "    .colab-df-container {\n",
              "      display:flex;\n",
              "      gap: 12px;\n",
              "    }\n",
              "\n",
              "    .colab-df-convert {\n",
              "      background-color: #E8F0FE;\n",
              "      border: none;\n",
              "      border-radius: 50%;\n",
              "      cursor: pointer;\n",
              "      display: none;\n",
              "      fill: #1967D2;\n",
              "      height: 32px;\n",
              "      padding: 0 0 0 0;\n",
              "      width: 32px;\n",
              "    }\n",
              "\n",
              "    .colab-df-convert:hover {\n",
              "      background-color: #E2EBFA;\n",
              "      box-shadow: 0px 1px 2px rgba(60, 64, 67, 0.3), 0px 1px 3px 1px rgba(60, 64, 67, 0.15);\n",
              "      fill: #174EA6;\n",
              "    }\n",
              "\n",
              "    .colab-df-buttons div {\n",
              "      margin-bottom: 4px;\n",
              "    }\n",
              "\n",
              "    [theme=dark] .colab-df-convert {\n",
              "      background-color: #3B4455;\n",
              "      fill: #D2E3FC;\n",
              "    }\n",
              "\n",
              "    [theme=dark] .colab-df-convert:hover {\n",
              "      background-color: #434B5C;\n",
              "      box-shadow: 0px 1px 3px 1px rgba(0, 0, 0, 0.15);\n",
              "      filter: drop-shadow(0px 1px 2px rgba(0, 0, 0, 0.3));\n",
              "      fill: #FFFFFF;\n",
              "    }\n",
              "  </style>\n",
              "\n",
              "    <script>\n",
              "      const buttonEl =\n",
              "        document.querySelector('#df-d26248a7-c085-4b2f-8f1d-1ba5e8f14582 button.colab-df-convert');\n",
              "      buttonEl.style.display =\n",
              "        google.colab.kernel.accessAllowed ? 'block' : 'none';\n",
              "\n",
              "      async function convertToInteractive(key) {\n",
              "        const element = document.querySelector('#df-d26248a7-c085-4b2f-8f1d-1ba5e8f14582');\n",
              "        const dataTable =\n",
              "          await google.colab.kernel.invokeFunction('convertToInteractive',\n",
              "                                                    [key], {});\n",
              "        if (!dataTable) return;\n",
              "\n",
              "        const docLinkHtml = 'Like what you see? Visit the ' +\n",
              "          '<a target=\"_blank\" href=https://colab.research.google.com/notebooks/data_table.ipynb>data table notebook</a>'\n",
              "          + ' to learn more about interactive tables.';\n",
              "        element.innerHTML = '';\n",
              "        dataTable['output_type'] = 'display_data';\n",
              "        await google.colab.output.renderOutput(dataTable, element);\n",
              "        const docLink = document.createElement('div');\n",
              "        docLink.innerHTML = docLinkHtml;\n",
              "        element.appendChild(docLink);\n",
              "      }\n",
              "    </script>\n",
              "  </div>\n",
              "\n",
              "\n",
              "<div id=\"df-2389618a-24e0-438a-8338-a79bcde7e16f\">\n",
              "  <button class=\"colab-df-quickchart\" onclick=\"quickchart('df-2389618a-24e0-438a-8338-a79bcde7e16f')\"\n",
              "            title=\"Suggest charts.\"\n",
              "            style=\"display:none;\">\n",
              "\n",
              "<svg xmlns=\"http://www.w3.org/2000/svg\" height=\"24px\"viewBox=\"0 0 24 24\"\n",
              "     width=\"24px\">\n",
              "    <g>\n",
              "        <path d=\"M19 3H5c-1.1 0-2 .9-2 2v14c0 1.1.9 2 2 2h14c1.1 0 2-.9 2-2V5c0-1.1-.9-2-2-2zM9 17H7v-7h2v7zm4 0h-2V7h2v10zm4 0h-2v-4h2v4z\"/>\n",
              "    </g>\n",
              "</svg>\n",
              "  </button>\n",
              "\n",
              "<style>\n",
              "  .colab-df-quickchart {\n",
              "      --bg-color: #E8F0FE;\n",
              "      --fill-color: #1967D2;\n",
              "      --hover-bg-color: #E2EBFA;\n",
              "      --hover-fill-color: #174EA6;\n",
              "      --disabled-fill-color: #AAA;\n",
              "      --disabled-bg-color: #DDD;\n",
              "  }\n",
              "\n",
              "  [theme=dark] .colab-df-quickchart {\n",
              "      --bg-color: #3B4455;\n",
              "      --fill-color: #D2E3FC;\n",
              "      --hover-bg-color: #434B5C;\n",
              "      --hover-fill-color: #FFFFFF;\n",
              "      --disabled-bg-color: #3B4455;\n",
              "      --disabled-fill-color: #666;\n",
              "  }\n",
              "\n",
              "  .colab-df-quickchart {\n",
              "    background-color: var(--bg-color);\n",
              "    border: none;\n",
              "    border-radius: 50%;\n",
              "    cursor: pointer;\n",
              "    display: none;\n",
              "    fill: var(--fill-color);\n",
              "    height: 32px;\n",
              "    padding: 0;\n",
              "    width: 32px;\n",
              "  }\n",
              "\n",
              "  .colab-df-quickchart:hover {\n",
              "    background-color: var(--hover-bg-color);\n",
              "    box-shadow: 0 1px 2px rgba(60, 64, 67, 0.3), 0 1px 3px 1px rgba(60, 64, 67, 0.15);\n",
              "    fill: var(--button-hover-fill-color);\n",
              "  }\n",
              "\n",
              "  .colab-df-quickchart-complete:disabled,\n",
              "  .colab-df-quickchart-complete:disabled:hover {\n",
              "    background-color: var(--disabled-bg-color);\n",
              "    fill: var(--disabled-fill-color);\n",
              "    box-shadow: none;\n",
              "  }\n",
              "\n",
              "  .colab-df-spinner {\n",
              "    border: 2px solid var(--fill-color);\n",
              "    border-color: transparent;\n",
              "    border-bottom-color: var(--fill-color);\n",
              "    animation:\n",
              "      spin 1s steps(1) infinite;\n",
              "  }\n",
              "\n",
              "  @keyframes spin {\n",
              "    0% {\n",
              "      border-color: transparent;\n",
              "      border-bottom-color: var(--fill-color);\n",
              "      border-left-color: var(--fill-color);\n",
              "    }\n",
              "    20% {\n",
              "      border-color: transparent;\n",
              "      border-left-color: var(--fill-color);\n",
              "      border-top-color: var(--fill-color);\n",
              "    }\n",
              "    30% {\n",
              "      border-color: transparent;\n",
              "      border-left-color: var(--fill-color);\n",
              "      border-top-color: var(--fill-color);\n",
              "      border-right-color: var(--fill-color);\n",
              "    }\n",
              "    40% {\n",
              "      border-color: transparent;\n",
              "      border-right-color: var(--fill-color);\n",
              "      border-top-color: var(--fill-color);\n",
              "    }\n",
              "    60% {\n",
              "      border-color: transparent;\n",
              "      border-right-color: var(--fill-color);\n",
              "    }\n",
              "    80% {\n",
              "      border-color: transparent;\n",
              "      border-right-color: var(--fill-color);\n",
              "      border-bottom-color: var(--fill-color);\n",
              "    }\n",
              "    90% {\n",
              "      border-color: transparent;\n",
              "      border-bottom-color: var(--fill-color);\n",
              "    }\n",
              "  }\n",
              "</style>\n",
              "\n",
              "  <script>\n",
              "    async function quickchart(key) {\n",
              "      const quickchartButtonEl =\n",
              "        document.querySelector('#' + key + ' button');\n",
              "      quickchartButtonEl.disabled = true;  // To prevent multiple clicks.\n",
              "      quickchartButtonEl.classList.add('colab-df-spinner');\n",
              "      try {\n",
              "        const charts = await google.colab.kernel.invokeFunction(\n",
              "            'suggestCharts', [key], {});\n",
              "      } catch (error) {\n",
              "        console.error('Error during call to suggestCharts:', error);\n",
              "      }\n",
              "      quickchartButtonEl.classList.remove('colab-df-spinner');\n",
              "      quickchartButtonEl.classList.add('colab-df-quickchart-complete');\n",
              "    }\n",
              "    (() => {\n",
              "      let quickchartButtonEl =\n",
              "        document.querySelector('#df-2389618a-24e0-438a-8338-a79bcde7e16f button');\n",
              "      quickchartButtonEl.style.display =\n",
              "        google.colab.kernel.accessAllowed ? 'block' : 'none';\n",
              "    })();\n",
              "  </script>\n",
              "</div>\n",
              "    </div>\n",
              "  </div>\n"
            ]
          },
          "metadata": {},
          "execution_count": 21
        }
      ]
    },
    {
      "cell_type": "code",
      "source": [
        "sorted_players = df.sort_values(by='name')\n",
        "\n",
        "top_players_dict = sorted_players.head().set_index('name')['rank'].to_dict()\n",
        "highest_rank_value = min(top_players_dict.values())\n",
        "\n",
        "print(top_players_dict)\n",
        "print(f'{list(top_players_dict.keys())[list(top_players_dict.values()).index(highest_rank_value)]}: {highest_rank_value}')"
      ],
      "metadata": {
        "colab": {
          "base_uri": "https://localhost:8080/"
        },
        "id": "K8_GPiFqHHkX",
        "outputId": "c3bf41f3-80e5-49e2-abf7-10a7c32df35f"
      },
      "execution_count": null,
      "outputs": [
        {
          "output_type": "stream",
          "name": "stdout",
          "text": [
            "{'Adrian Mannarino': 58, 'Albert Ramos': 44, 'Alejandro Davidovich Fokina': 47, 'Alejandro Tabilo': 144, 'Aleksandar Vukic': 140}\n",
            "Albert Ramos: 44\n"
          ]
        }
      ]
    },
    {
      "cell_type": "code",
      "source": [
        "rank_100 = df[df['rank'] == 100][['rank', 'name', 'country_name', 'points']]\n",
        "middle_rank_player = rank_100.to_dict('records')\n",
        "\n",
        "print(middle_rank_player)"
      ],
      "metadata": {
        "colab": {
          "base_uri": "https://localhost:8080/"
        },
        "id": "0OVkGWKFRIgW",
        "outputId": "78ba71fa-8957-4c10-f7e0-9c3fbabcca8a"
      },
      "execution_count": null,
      "outputs": [
        {
          "output_type": "stream",
          "name": "stdout",
          "text": [
            "[{'rank': 100, 'name': 'Steve Johnson', 'country_name': 'United States', 'points': 719}]\n"
          ]
        }
      ]
    },
    {
      "cell_type": "code",
      "source": [
        "df_sort = df.head().sort_values(by='rank')\n",
        "the_greats = df_sort.to_dict('records')\n",
        "\n",
        "print(the_greats[4])"
      ],
      "metadata": {
        "colab": {
          "base_uri": "https://localhost:8080/"
        },
        "id": "f6vQdcoXYUn8",
        "outputId": "39775743-bb47-4c18-cc93-f760b5472cc3"
      },
      "execution_count": null,
      "outputs": [
        {
          "output_type": "stream",
          "name": "stdout",
          "text": [
            "{'rank': 5, 'name': 'Rafael Nadal', 'country_name': 'Spain', 'country_id': 'ESP', 'points': 6875, 'bestRank': 1, 'bestRankDate': '2008-08-18', 'rankDiff': 0.0, 'pointsDiff': 2000.0, 'bestPoints': 15390}\n"
          ]
        }
      ]
    },
    {
      "cell_type": "code",
      "source": [
        "rank_1 = {\n",
        "    'name': 'Novak Djokovic',\n",
        "    'points': 11015\n",
        "}\n",
        "rank_2 = {\n",
        "    'name': 'Daniil Medvedev',\n",
        "    'points': 10125\n",
        "}\n",
        "rank_3 = {\n",
        "    'name': 'Alexander Zverev',\n",
        "    'points': 7780\n",
        "}\n",
        "players = [rank_1 , rank_2, rank_3]\n",
        "\n",
        "\n",
        "for player in players:\n",
        "    print(player['name'])"
      ],
      "metadata": {
        "colab": {
          "base_uri": "https://localhost:8080/"
        },
        "id": "6YxCVc1aao_4",
        "outputId": "c9d6d8e8-5a78-40fe-baa6-475013e891a2"
      },
      "execution_count": null,
      "outputs": [
        {
          "output_type": "stream",
          "name": "stdout",
          "text": [
            "Novak Djokovic\n",
            "Daniil Medvedev\n",
            "Alexander Zverev\n"
          ]
        }
      ]
    },
    {
      "cell_type": "code",
      "source": [
        "top_3_greats = [\n",
        "         { 'name': 'Novak Djokovic', 'points': 11015 },\n",
        "         {'name': 'Daniil Medvedev', 'points': 10125},\n",
        "         {'name': 'Alexander Zverev', 'points': 7780}\n",
        "]\n",
        "\n",
        "total_points = 0\n",
        "player_count = len(top_3_greats)\n",
        "\n",
        "for player in top_3_greats:\n",
        "    total_points += player['points']\n",
        "\n",
        "average_points = round((total_points / player_count), 2)\n",
        "\n",
        "print(average_points)"
      ],
      "metadata": {
        "colab": {
          "base_uri": "https://localhost:8080/"
        },
        "id": "YQpNQsojbHvl",
        "outputId": "ac7c3086-03b5-403c-8747-aaae517454f9"
      },
      "execution_count": null,
      "outputs": [
        {
          "output_type": "stream",
          "name": "stdout",
          "text": [
            "9640.0\n"
          ]
        }
      ]
    },
    {
      "cell_type": "code",
      "source": [
        "tennis_players = [\n",
        "    {'name': 'Novak Djokovic', 'country': 'Serbia', 'rank': 1},\n",
        "    {'name': 'Daniil Medvedev', 'country': 'Russian Federation', 'rank': 2},\n",
        "    {'name': 'Alexander Zverev', 'country': 'Germany', 'rank': 3},\n",
        "    {'name': 'Stefanos Tsitsipas', 'country': 'Greece', 'rank': 4},\n",
        "    {'name': 'Rafael Nadal', 'country': 'Spain', 'rank': 5}\n",
        "]\n",
        "\n",
        "for player in tennis_players:\n",
        "    print(player['name'])"
      ],
      "metadata": {
        "colab": {
          "base_uri": "https://localhost:8080/"
        },
        "id": "rKbmZ2qdfSag",
        "outputId": "518226f3-6910-4427-f08c-a65d7a500e43"
      },
      "execution_count": null,
      "outputs": [
        {
          "output_type": "stream",
          "name": "stdout",
          "text": [
            "Novak Djokovic\n",
            "Daniil Medvedev\n",
            "Alexander Zverev\n",
            "Stefanos Tsitsipas\n",
            "Rafael Nadal\n"
          ]
        }
      ]
    }
  ]
}