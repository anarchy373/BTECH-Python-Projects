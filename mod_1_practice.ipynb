{
  "nbformat": 4,
  "nbformat_minor": 0,
  "metadata": {
    "colab": {
      "provenance": [],
      "authorship_tag": "ABX9TyMtbKoORoRiNxrpRrNoiWeU",
      "include_colab_link": true
    },
    "kernelspec": {
      "name": "python3",
      "display_name": "Python 3"
    },
    "language_info": {
      "name": "python"
    }
  },
  "cells": [
    {
      "cell_type": "markdown",
      "metadata": {
        "id": "view-in-github",
        "colab_type": "text"
      },
      "source": [
        "<a href=\"https://colab.research.google.com/github/anarchy373/BTECH-Python-Projects/blob/main/mod_1_practice.ipynb\" target=\"_parent\"><img src=\"https://colab.research.google.com/assets/colab-badge.svg\" alt=\"Open In Colab\"/></a>"
      ]
    },
    {
      "cell_type": "code",
      "execution_count": null,
      "metadata": {
        "colab": {
          "base_uri": "https://localhost:8080/"
        },
        "id": "jIjfa4YhLXc7",
        "outputId": "8e73af41-2a42-4037-c601-2f515d8ebaaa"
      },
      "outputs": [
        {
          "output_type": "stream",
          "name": "stdout",
          "text": [
            "12.5\n"
          ]
        }
      ],
      "source": [
        "notebooks = 5\n",
        "price = 2.50\n",
        "\n",
        "print(notebooks * price)"
      ]
    },
    {
      "cell_type": "code",
      "source": [
        "box_chocolates = 24\n",
        "\n",
        "print((box_chocolates) - 8)"
      ],
      "metadata": {
        "colab": {
          "base_uri": "https://localhost:8080/"
        },
        "id": "OW23UH5cMGnN",
        "outputId": "54949013-ffa1-4986-e038-21f745940e5d"
      },
      "execution_count": null,
      "outputs": [
        {
          "output_type": "stream",
          "name": "stdout",
          "text": [
            "16\n"
          ]
        }
      ]
    },
    {
      "cell_type": "code",
      "source": [
        "miles_per_day = 3\n",
        "week = 7\n",
        "\n",
        "print(miles_per_day * week)"
      ],
      "metadata": {
        "colab": {
          "base_uri": "https://localhost:8080/"
        },
        "id": "BvFcM3U1NOn9",
        "outputId": "1094f053-8e48-494a-cdd9-b3178296b8ca"
      },
      "execution_count": null,
      "outputs": [
        {
          "output_type": "stream",
          "name": "stdout",
          "text": [
            "21\n"
          ]
        }
      ]
    },
    {
      "cell_type": "code",
      "source": [
        "pizza_slices = 8\n",
        "\n",
        "print((pizza_slices - 3) / 8)"
      ],
      "metadata": {
        "colab": {
          "base_uri": "https://localhost:8080/"
        },
        "id": "A-qR6_9fNfdV",
        "outputId": "071e65b1-fac4-4a8a-c2eb-902f106a279e"
      },
      "execution_count": null,
      "outputs": [
        {
          "output_type": "stream",
          "name": "stdout",
          "text": [
            "0.625\n"
          ]
        }
      ]
    },
    {
      "cell_type": "code",
      "source": [
        "city_temp = 18\n",
        "\n",
        "print(city_temp - 5)"
      ],
      "metadata": {
        "colab": {
          "base_uri": "https://localhost:8080/"
        },
        "id": "7x2JEh1yOAq4",
        "outputId": "b38a1867-7489-4cf8-de5d-6a992292913f"
      },
      "execution_count": null,
      "outputs": [
        {
          "output_type": "stream",
          "name": "stdout",
          "text": [
            "13\n"
          ]
        }
      ]
    },
    {
      "cell_type": "code",
      "source": [
        "city_temp = 25\n",
        "temp_in_fahrenheit = ((city_temp) * (9 / 5) + 32)\n",
        "\n",
        "print(temp_in_fahrenheit)"
      ],
      "metadata": {
        "colab": {
          "base_uri": "https://localhost:8080/"
        },
        "id": "JNGAemhvPjJz",
        "outputId": "57bb21bd-03d0-49f1-b8dd-b3dd73bc3a31"
      },
      "execution_count": null,
      "outputs": [
        {
          "output_type": "stream",
          "name": "stdout",
          "text": [
            "77.0\n"
          ]
        }
      ]
    },
    {
      "cell_type": "code",
      "source": [
        "# 2 cups of flour = 12 cookies\n",
        "# 1 cup of flour yields 6 cookies\n",
        "\n",
        "number_cookies = int(input(\"Enter desired amount of cookies: \"))\n",
        "cups_of_flour = number_cookies / 6\n",
        "\n",
        "\n",
        "print(\"You need this much flour: \", cups_of_flour)"
      ],
      "metadata": {
        "id": "Oj-n3EohQdrS",
        "colab": {
          "base_uri": "https://localhost:8080/"
        },
        "outputId": "733a61ab-8fea-495c-b404-2bb26fcdfacd"
      },
      "execution_count": null,
      "outputs": [
        {
          "output_type": "stream",
          "name": "stdout",
          "text": [
            "Enter desired amount of cookies: 42\n",
            "You need this much flour:  7.0\n"
          ]
        }
      ]
    },
    {
      "cell_type": "code",
      "source": [
        "# Mary's allowance $15/week\n",
        "# If she saves $5/week, how much $ after 4 weeks\n",
        "\n",
        "money_saved = 5\n",
        "Number_weeks = 4\n",
        "\n",
        "print(money_saved * Number_weeks)"
      ],
      "metadata": {
        "colab": {
          "base_uri": "https://localhost:8080/"
        },
        "id": "3LR2cXmM7Ck3",
        "outputId": "aaefcb66-6221-4d83-97ad-1bc4dd2c4fed"
      },
      "execution_count": null,
      "outputs": [
        {
          "output_type": "stream",
          "name": "stdout",
          "text": [
            "20\n"
          ]
        }
      ]
    },
    {
      "cell_type": "code",
      "source": [
        "savings_goal = 10000\n",
        "money_saved = 4500\n",
        "left_to_save = savings_goal - money_saved\n",
        "\n",
        "print('Months left to save: ', left_to_save / 500)"
      ],
      "metadata": {
        "colab": {
          "base_uri": "https://localhost:8080/"
        },
        "id": "XtRAy0KQ8N0P",
        "outputId": "2ecde391-a5fc-4afd-aa41-0900c60f3559"
      },
      "execution_count": null,
      "outputs": [
        {
          "output_type": "stream",
          "name": "stdout",
          "text": [
            "Months left to save:  11.0\n"
          ]
        }
      ]
    },
    {
      "cell_type": "code",
      "source": [
        "import math\n",
        "students_to_transport = 130\n",
        "bus_capacity = 40\n",
        "\n",
        "print(math.ceil(students_to_transport / bus_capacity))"
      ],
      "metadata": {
        "colab": {
          "base_uri": "https://localhost:8080/"
        },
        "id": "tRjv6xoV-_OQ",
        "outputId": "301f172d-cd0b-4f2e-e6d7-88bd15390b20"
      },
      "execution_count": null,
      "outputs": [
        {
          "output_type": "stream",
          "name": "stdout",
          "text": [
            "4\n"
          ]
        }
      ]
    },
    {
      "cell_type": "code",
      "source": [
        "smartphone_price = 400\n",
        "production_cost = 250\n",
        "number_of_smartphones = 500\n",
        "\n",
        "total_profit = smartphone_price - production_cost\n",
        "\n",
        "print(total_profit * number_of_smartphones)"
      ],
      "metadata": {
        "colab": {
          "base_uri": "https://localhost:8080/"
        },
        "id": "lteaQfAkB70x",
        "outputId": "6e16718b-7b2d-4830-841c-6f0c6fd7b696"
      },
      "execution_count": null,
      "outputs": [
        {
          "output_type": "stream",
          "name": "stdout",
          "text": [
            "75000\n"
          ]
        }
      ]
    },
    {
      "cell_type": "code",
      "source": [
        "# 2 cups of sugar = 24 cookies\n",
        "# 1 cup of sugar yields 12 cookies\n",
        "\n",
        "# desired amount of cookies = 60\n",
        "\n",
        "cups_of_sugar = int(input(\"Enter available amount of sugar: \"))\n",
        "\n",
        "number_cookies = cups_of_sugar * 12\n",
        "\n",
        "\n",
        "print(\"You can make this many cookies: \", number_cookies)"
      ],
      "metadata": {
        "colab": {
          "base_uri": "https://localhost:8080/"
        },
        "id": "Zbqt4kTFD0Tv",
        "outputId": "a5c63e2f-6e70-46a0-d406-b55d01f6a055"
      },
      "execution_count": null,
      "outputs": [
        {
          "output_type": "stream",
          "name": "stdout",
          "text": [
            "Enter available amount of sugar: 3\n",
            "You can make this many cookies:  36\n"
          ]
        }
      ]
    }
  ]
}