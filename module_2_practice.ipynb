{
  "nbformat": 4,
  "nbformat_minor": 0,
  "metadata": {
    "colab": {
      "provenance": [],
      "authorship_tag": "ABX9TyNgCjZx8hHOcByWlADRkE9t",
      "include_colab_link": true
    },
    "kernelspec": {
      "name": "python3",
      "display_name": "Python 3"
    },
    "language_info": {
      "name": "python"
    }
  },
  "cells": [
    {
      "cell_type": "markdown",
      "metadata": {
        "id": "view-in-github",
        "colab_type": "text"
      },
      "source": [
        "<a href=\"https://colab.research.google.com/github/anarchy373/BTECH-Python-Projects/blob/main/module_2_practice.ipynb\" target=\"_parent\"><img src=\"https://colab.research.google.com/assets/colab-badge.svg\" alt=\"Open In Colab\"/></a>"
      ]
    },
    {
      "cell_type": "code",
      "execution_count": null,
      "metadata": {
        "id": "CYOLHw3RPSRj"
      },
      "outputs": [],
      "source": [
        "import pandas as pd\n",
        "\n",
        "df = pd.read_csv('imdb_movies.csv')"
      ]
    },
    {
      "cell_type": "code",
      "source": [
        "df.head()"
      ],
      "metadata": {
        "colab": {
          "base_uri": "https://localhost:8080/",
          "height": 694
        },
        "id": "UyOHbB5AQHMe",
        "outputId": "82fa490f-b8db-4465-9a4e-a7101b8dab97"
      },
      "execution_count": null,
      "outputs": [
        {
          "output_type": "execute_result",
          "data": {
            "text/plain": [
              "   Unnamed: 0                                        Poster_Link  \\\n",
              "0           0  https://m.media-amazon.com/images/M/MV5BMDFkYT...   \n",
              "1           1  https://m.media-amazon.com/images/M/MV5BM2MyNj...   \n",
              "2           2  https://m.media-amazon.com/images/M/MV5BMTMxNT...   \n",
              "3           3  https://m.media-amazon.com/images/M/MV5BMWMwMG...   \n",
              "4           4  https://m.media-amazon.com/images/M/MV5BMWU4N2...   \n",
              "\n",
              "               Series_Title Released_Year Certificate  Runtime  \\\n",
              "0  The Shawshank Redemption          1994           A      142   \n",
              "1             The Godfather          1972           A      175   \n",
              "2           The Dark Knight          2008          UA      152   \n",
              "3    The Godfather: Part II          1974           A      202   \n",
              "4              12 Angry Men          1957           U       96   \n",
              "\n",
              "                  Genre  IMDB_Rating  \\\n",
              "0                 Drama          9.3   \n",
              "1          Crime, Drama          9.2   \n",
              "2  Action, Crime, Drama          9.0   \n",
              "3          Crime, Drama          9.0   \n",
              "4          Crime, Drama          9.0   \n",
              "\n",
              "                                            Overview  Meta_score  \\\n",
              "0  Two imprisoned men bond over a number of years...        80.0   \n",
              "1  An organized crime dynasty's aging patriarch t...       100.0   \n",
              "2  When the menace known as the Joker wreaks havo...        84.0   \n",
              "3  The early life and career of Vito Corleone in ...        90.0   \n",
              "4  A jury holdout attempts to prevent a miscarria...        96.0   \n",
              "\n",
              "               Director           Star1           Star2          Star3  \\\n",
              "0        Frank Darabont     Tim Robbins  Morgan Freeman     Bob Gunton   \n",
              "1  Francis Ford Coppola   Marlon Brando       Al Pacino     James Caan   \n",
              "2     Christopher Nolan  Christian Bale    Heath Ledger  Aaron Eckhart   \n",
              "3  Francis Ford Coppola       Al Pacino  Robert De Niro  Robert Duvall   \n",
              "4          Sidney Lumet     Henry Fonda     Lee J. Cobb  Martin Balsam   \n",
              "\n",
              "            Star4  No_of_Votes        Gross  \n",
              "0  William Sadler      2343110   28341469.0  \n",
              "1    Diane Keaton      1620367  134966411.0  \n",
              "2   Michael Caine      2303232  534858444.0  \n",
              "3    Diane Keaton      1129952   57300000.0  \n",
              "4    John Fiedler       689845    4360000.0  "
            ],
            "text/html": [
              "\n",
              "  <div id=\"df-cfd4d4a6-5c97-4992-820f-017c612c0591\" class=\"colab-df-container\">\n",
              "    <div>\n",
              "<style scoped>\n",
              "    .dataframe tbody tr th:only-of-type {\n",
              "        vertical-align: middle;\n",
              "    }\n",
              "\n",
              "    .dataframe tbody tr th {\n",
              "        vertical-align: top;\n",
              "    }\n",
              "\n",
              "    .dataframe thead th {\n",
              "        text-align: right;\n",
              "    }\n",
              "</style>\n",
              "<table border=\"1\" class=\"dataframe\">\n",
              "  <thead>\n",
              "    <tr style=\"text-align: right;\">\n",
              "      <th></th>\n",
              "      <th>Unnamed: 0</th>\n",
              "      <th>Poster_Link</th>\n",
              "      <th>Series_Title</th>\n",
              "      <th>Released_Year</th>\n",
              "      <th>Certificate</th>\n",
              "      <th>Runtime</th>\n",
              "      <th>Genre</th>\n",
              "      <th>IMDB_Rating</th>\n",
              "      <th>Overview</th>\n",
              "      <th>Meta_score</th>\n",
              "      <th>Director</th>\n",
              "      <th>Star1</th>\n",
              "      <th>Star2</th>\n",
              "      <th>Star3</th>\n",
              "      <th>Star4</th>\n",
              "      <th>No_of_Votes</th>\n",
              "      <th>Gross</th>\n",
              "    </tr>\n",
              "  </thead>\n",
              "  <tbody>\n",
              "    <tr>\n",
              "      <th>0</th>\n",
              "      <td>0</td>\n",
              "      <td>https://m.media-amazon.com/images/M/MV5BMDFkYT...</td>\n",
              "      <td>The Shawshank Redemption</td>\n",
              "      <td>1994</td>\n",
              "      <td>A</td>\n",
              "      <td>142</td>\n",
              "      <td>Drama</td>\n",
              "      <td>9.3</td>\n",
              "      <td>Two imprisoned men bond over a number of years...</td>\n",
              "      <td>80.0</td>\n",
              "      <td>Frank Darabont</td>\n",
              "      <td>Tim Robbins</td>\n",
              "      <td>Morgan Freeman</td>\n",
              "      <td>Bob Gunton</td>\n",
              "      <td>William Sadler</td>\n",
              "      <td>2343110</td>\n",
              "      <td>28341469.0</td>\n",
              "    </tr>\n",
              "    <tr>\n",
              "      <th>1</th>\n",
              "      <td>1</td>\n",
              "      <td>https://m.media-amazon.com/images/M/MV5BM2MyNj...</td>\n",
              "      <td>The Godfather</td>\n",
              "      <td>1972</td>\n",
              "      <td>A</td>\n",
              "      <td>175</td>\n",
              "      <td>Crime, Drama</td>\n",
              "      <td>9.2</td>\n",
              "      <td>An organized crime dynasty's aging patriarch t...</td>\n",
              "      <td>100.0</td>\n",
              "      <td>Francis Ford Coppola</td>\n",
              "      <td>Marlon Brando</td>\n",
              "      <td>Al Pacino</td>\n",
              "      <td>James Caan</td>\n",
              "      <td>Diane Keaton</td>\n",
              "      <td>1620367</td>\n",
              "      <td>134966411.0</td>\n",
              "    </tr>\n",
              "    <tr>\n",
              "      <th>2</th>\n",
              "      <td>2</td>\n",
              "      <td>https://m.media-amazon.com/images/M/MV5BMTMxNT...</td>\n",
              "      <td>The Dark Knight</td>\n",
              "      <td>2008</td>\n",
              "      <td>UA</td>\n",
              "      <td>152</td>\n",
              "      <td>Action, Crime, Drama</td>\n",
              "      <td>9.0</td>\n",
              "      <td>When the menace known as the Joker wreaks havo...</td>\n",
              "      <td>84.0</td>\n",
              "      <td>Christopher Nolan</td>\n",
              "      <td>Christian Bale</td>\n",
              "      <td>Heath Ledger</td>\n",
              "      <td>Aaron Eckhart</td>\n",
              "      <td>Michael Caine</td>\n",
              "      <td>2303232</td>\n",
              "      <td>534858444.0</td>\n",
              "    </tr>\n",
              "    <tr>\n",
              "      <th>3</th>\n",
              "      <td>3</td>\n",
              "      <td>https://m.media-amazon.com/images/M/MV5BMWMwMG...</td>\n",
              "      <td>The Godfather: Part II</td>\n",
              "      <td>1974</td>\n",
              "      <td>A</td>\n",
              "      <td>202</td>\n",
              "      <td>Crime, Drama</td>\n",
              "      <td>9.0</td>\n",
              "      <td>The early life and career of Vito Corleone in ...</td>\n",
              "      <td>90.0</td>\n",
              "      <td>Francis Ford Coppola</td>\n",
              "      <td>Al Pacino</td>\n",
              "      <td>Robert De Niro</td>\n",
              "      <td>Robert Duvall</td>\n",
              "      <td>Diane Keaton</td>\n",
              "      <td>1129952</td>\n",
              "      <td>57300000.0</td>\n",
              "    </tr>\n",
              "    <tr>\n",
              "      <th>4</th>\n",
              "      <td>4</td>\n",
              "      <td>https://m.media-amazon.com/images/M/MV5BMWU4N2...</td>\n",
              "      <td>12 Angry Men</td>\n",
              "      <td>1957</td>\n",
              "      <td>U</td>\n",
              "      <td>96</td>\n",
              "      <td>Crime, Drama</td>\n",
              "      <td>9.0</td>\n",
              "      <td>A jury holdout attempts to prevent a miscarria...</td>\n",
              "      <td>96.0</td>\n",
              "      <td>Sidney Lumet</td>\n",
              "      <td>Henry Fonda</td>\n",
              "      <td>Lee J. Cobb</td>\n",
              "      <td>Martin Balsam</td>\n",
              "      <td>John Fiedler</td>\n",
              "      <td>689845</td>\n",
              "      <td>4360000.0</td>\n",
              "    </tr>\n",
              "  </tbody>\n",
              "</table>\n",
              "</div>\n",
              "    <div class=\"colab-df-buttons\">\n",
              "\n",
              "  <div class=\"colab-df-container\">\n",
              "    <button class=\"colab-df-convert\" onclick=\"convertToInteractive('df-cfd4d4a6-5c97-4992-820f-017c612c0591')\"\n",
              "            title=\"Convert this dataframe to an interactive table.\"\n",
              "            style=\"display:none;\">\n",
              "\n",
              "  <svg xmlns=\"http://www.w3.org/2000/svg\" height=\"24px\" viewBox=\"0 -960 960 960\">\n",
              "    <path d=\"M120-120v-720h720v720H120Zm60-500h600v-160H180v160Zm220 220h160v-160H400v160Zm0 220h160v-160H400v160ZM180-400h160v-160H180v160Zm440 0h160v-160H620v160ZM180-180h160v-160H180v160Zm440 0h160v-160H620v160Z\"/>\n",
              "  </svg>\n",
              "    </button>\n",
              "\n",
              "  <style>\n",
              "    .colab-df-container {\n",
              "      display:flex;\n",
              "      gap: 12px;\n",
              "    }\n",
              "\n",
              "    .colab-df-convert {\n",
              "      background-color: #E8F0FE;\n",
              "      border: none;\n",
              "      border-radius: 50%;\n",
              "      cursor: pointer;\n",
              "      display: none;\n",
              "      fill: #1967D2;\n",
              "      height: 32px;\n",
              "      padding: 0 0 0 0;\n",
              "      width: 32px;\n",
              "    }\n",
              "\n",
              "    .colab-df-convert:hover {\n",
              "      background-color: #E2EBFA;\n",
              "      box-shadow: 0px 1px 2px rgba(60, 64, 67, 0.3), 0px 1px 3px 1px rgba(60, 64, 67, 0.15);\n",
              "      fill: #174EA6;\n",
              "    }\n",
              "\n",
              "    .colab-df-buttons div {\n",
              "      margin-bottom: 4px;\n",
              "    }\n",
              "\n",
              "    [theme=dark] .colab-df-convert {\n",
              "      background-color: #3B4455;\n",
              "      fill: #D2E3FC;\n",
              "    }\n",
              "\n",
              "    [theme=dark] .colab-df-convert:hover {\n",
              "      background-color: #434B5C;\n",
              "      box-shadow: 0px 1px 3px 1px rgba(0, 0, 0, 0.15);\n",
              "      filter: drop-shadow(0px 1px 2px rgba(0, 0, 0, 0.3));\n",
              "      fill: #FFFFFF;\n",
              "    }\n",
              "  </style>\n",
              "\n",
              "    <script>\n",
              "      const buttonEl =\n",
              "        document.querySelector('#df-cfd4d4a6-5c97-4992-820f-017c612c0591 button.colab-df-convert');\n",
              "      buttonEl.style.display =\n",
              "        google.colab.kernel.accessAllowed ? 'block' : 'none';\n",
              "\n",
              "      async function convertToInteractive(key) {\n",
              "        const element = document.querySelector('#df-cfd4d4a6-5c97-4992-820f-017c612c0591');\n",
              "        const dataTable =\n",
              "          await google.colab.kernel.invokeFunction('convertToInteractive',\n",
              "                                                    [key], {});\n",
              "        if (!dataTable) return;\n",
              "\n",
              "        const docLinkHtml = 'Like what you see? Visit the ' +\n",
              "          '<a target=\"_blank\" href=https://colab.research.google.com/notebooks/data_table.ipynb>data table notebook</a>'\n",
              "          + ' to learn more about interactive tables.';\n",
              "        element.innerHTML = '';\n",
              "        dataTable['output_type'] = 'display_data';\n",
              "        await google.colab.output.renderOutput(dataTable, element);\n",
              "        const docLink = document.createElement('div');\n",
              "        docLink.innerHTML = docLinkHtml;\n",
              "        element.appendChild(docLink);\n",
              "      }\n",
              "    </script>\n",
              "  </div>\n",
              "\n",
              "\n",
              "<div id=\"df-b29583af-0b43-48b9-9a94-cae3bcb34947\">\n",
              "  <button class=\"colab-df-quickchart\" onclick=\"quickchart('df-b29583af-0b43-48b9-9a94-cae3bcb34947')\"\n",
              "            title=\"Suggest charts.\"\n",
              "            style=\"display:none;\">\n",
              "\n",
              "<svg xmlns=\"http://www.w3.org/2000/svg\" height=\"24px\"viewBox=\"0 0 24 24\"\n",
              "     width=\"24px\">\n",
              "    <g>\n",
              "        <path d=\"M19 3H5c-1.1 0-2 .9-2 2v14c0 1.1.9 2 2 2h14c1.1 0 2-.9 2-2V5c0-1.1-.9-2-2-2zM9 17H7v-7h2v7zm4 0h-2V7h2v10zm4 0h-2v-4h2v4z\"/>\n",
              "    </g>\n",
              "</svg>\n",
              "  </button>\n",
              "\n",
              "<style>\n",
              "  .colab-df-quickchart {\n",
              "    background-color: #E8F0FE;\n",
              "    border: none;\n",
              "    border-radius: 50%;\n",
              "    cursor: pointer;\n",
              "    display: none;\n",
              "    fill: #1967D2;\n",
              "    height: 32px;\n",
              "    padding: 0 0 0 0;\n",
              "    width: 32px;\n",
              "  }\n",
              "\n",
              "  .colab-df-quickchart:hover {\n",
              "    background-color: #E2EBFA;\n",
              "    box-shadow: 0px 1px 2px rgba(60, 64, 67, 0.3), 0px 1px 3px 1px rgba(60, 64, 67, 0.15);\n",
              "    fill: #174EA6;\n",
              "  }\n",
              "\n",
              "  [theme=dark] .colab-df-quickchart {\n",
              "    background-color: #3B4455;\n",
              "    fill: #D2E3FC;\n",
              "  }\n",
              "\n",
              "  [theme=dark] .colab-df-quickchart:hover {\n",
              "    background-color: #434B5C;\n",
              "    box-shadow: 0px 1px 3px 1px rgba(0, 0, 0, 0.15);\n",
              "    filter: drop-shadow(0px 1px 2px rgba(0, 0, 0, 0.3));\n",
              "    fill: #FFFFFF;\n",
              "  }\n",
              "</style>\n",
              "\n",
              "  <script>\n",
              "    async function quickchart(key) {\n",
              "      const charts = await google.colab.kernel.invokeFunction(\n",
              "          'suggestCharts', [key], {});\n",
              "    }\n",
              "    (() => {\n",
              "      let quickchartButtonEl =\n",
              "        document.querySelector('#df-b29583af-0b43-48b9-9a94-cae3bcb34947 button');\n",
              "      quickchartButtonEl.style.display =\n",
              "        google.colab.kernel.accessAllowed ? 'block' : 'none';\n",
              "    })();\n",
              "  </script>\n",
              "</div>\n",
              "    </div>\n",
              "  </div>\n"
            ]
          },
          "metadata": {},
          "execution_count": 75
        }
      ]
    },
    {
      "cell_type": "code",
      "source": [
        "# Question 1: What is the average runtime for movies in the data set? Round to two decimal places.\n",
        "\n",
        "round(df['Runtime'].mean(), 2)"
      ],
      "metadata": {
        "colab": {
          "base_uri": "https://localhost:8080/"
        },
        "id": "Bfg1XqWrQRyI",
        "outputId": "fa1a7690-5efa-46b8-fc4f-3bb68ff68fea"
      },
      "execution_count": null,
      "outputs": [
        {
          "output_type": "execute_result",
          "data": {
            "text/plain": [
              "122.89"
            ]
          },
          "metadata": {},
          "execution_count": 6
        }
      ]
    },
    {
      "cell_type": "code",
      "source": [
        "# Question 2: How long would it take you to watch all movies, in hours? Round to two decimal places.\n",
        "\n",
        "round((df['Runtime'].sum() / 60), 2)"
      ],
      "metadata": {
        "colab": {
          "base_uri": "https://localhost:8080/"
        },
        "id": "Fznwoq7gQ2c7",
        "outputId": "282f147a-074d-489e-972b-adb284c03531"
      },
      "execution_count": null,
      "outputs": [
        {
          "output_type": "execute_result",
          "data": {
            "text/plain": [
              "2048.18"
            ]
          },
          "metadata": {},
          "execution_count": 10
        }
      ]
    },
    {
      "cell_type": "code",
      "source": [
        "# Question 3: What is the median meta score of movies in the data set?\n",
        "\n",
        "df['Meta_score'].median()"
      ],
      "metadata": {
        "colab": {
          "base_uri": "https://localhost:8080/"
        },
        "id": "sAUNOapLQ7Iq",
        "outputId": "c1c4a2cd-5601-4263-d6e7-8cfd869027d3"
      },
      "execution_count": null,
      "outputs": [
        {
          "output_type": "execute_result",
          "data": {
            "text/plain": [
              "79.0"
            ]
          },
          "metadata": {},
          "execution_count": 11
        }
      ]
    },
    {
      "cell_type": "code",
      "source": [
        "# Question 4: Which genre has the most titles in the data set?\n",
        "\n",
        "dfg = df[['Series_Title', 'Genre']]\n",
        "dfg = dfg.groupby(['Genre']).count()\n",
        "dfg = dfg.sort_values(by='Series_Title', ascending=False)\n",
        "print(dfg)"
      ],
      "metadata": {
        "colab": {
          "base_uri": "https://localhost:8080/"
        },
        "id": "7o113pcFRBaf",
        "outputId": "fb781b88-8862-436a-f70d-a8429567c9fa"
      },
      "execution_count": null,
      "outputs": [
        {
          "output_type": "stream",
          "name": "stdout",
          "text": [
            "                           Series_Title\n",
            "Genre                                  \n",
            "Drama                                85\n",
            "Drama, Romance                       37\n",
            "Comedy, Drama                        35\n",
            "Comedy, Drama, Romance               31\n",
            "Action, Crime, Drama                 30\n",
            "...                                 ...\n",
            "Action, Crime, Mystery                1\n",
            "Crime, Drama, Sci-Fi                  1\n",
            "Animation, Crime, Mystery             1\n",
            "Animation, Drama, Romance             1\n",
            "Crime, Drama, Horror                  1\n",
            "\n",
            "[202 rows x 1 columns]\n"
          ]
        }
      ]
    },
    {
      "cell_type": "code",
      "source": [
        "# Question 5: How many different directors appear in the data set?\n",
        "\n",
        "df['Director'].nunique()"
      ],
      "metadata": {
        "colab": {
          "base_uri": "https://localhost:8080/"
        },
        "id": "-yTXzh4BRF3n",
        "outputId": "df052b6a-d1b3-4312-8046-98eb3d244b80"
      },
      "execution_count": null,
      "outputs": [
        {
          "output_type": "execute_result",
          "data": {
            "text/plain": [
              "548"
            ]
          },
          "metadata": {},
          "execution_count": 14
        }
      ]
    },
    {
      "cell_type": "code",
      "source": [
        "# Question 6: Which actor appeared the most times in the Star1 column?\n",
        "\n",
        "dfs = df[['Star1', 'Series_Title']]\n",
        "dfs = dfs.groupby(['Star1']).count()\n",
        "dfs = dfs.sort_values(by= 'Series_Title', ascending = False)\n",
        "print(dfs)"
      ],
      "metadata": {
        "colab": {
          "base_uri": "https://localhost:8080/"
        },
        "id": "Z95_m6EORJkW",
        "outputId": "f282eb41-8645-4de1-ad30-52ab5fdde145"
      },
      "execution_count": null,
      "outputs": [
        {
          "output_type": "stream",
          "name": "stdout",
          "text": [
            "                    Series_Title\n",
            "Star1                           \n",
            "Tom Hanks                     12\n",
            "Robert De Niro                11\n",
            "Clint Eastwood                10\n",
            "Al Pacino                     10\n",
            "Leonardo DiCaprio              9\n",
            "...                          ...\n",
            "Glen Hansard                   1\n",
            "Giuseppe Battiston             1\n",
            "Giulietta Masina               1\n",
            "Gerardo Taracena               1\n",
            "Ömer Faruk Sorak               1\n",
            "\n",
            "[660 rows x 1 columns]\n"
          ]
        }
      ]
    },
    {
      "cell_type": "code",
      "source": [
        "# Question 7: In which year was the oldest movie released?\n",
        "\n",
        "df[['Released_Year']].min()"
      ],
      "metadata": {
        "colab": {
          "base_uri": "https://localhost:8080/"
        },
        "id": "Yv3Q0L0DRN3F",
        "outputId": "7d2d9859-c5b9-4647-9f26-9dbf6585cd1a"
      },
      "execution_count": null,
      "outputs": [
        {
          "output_type": "execute_result",
          "data": {
            "text/plain": [
              "Released_Year    1920\n",
              "dtype: object"
            ]
          },
          "metadata": {},
          "execution_count": 80
        }
      ]
    },
    {
      "cell_type": "code",
      "source": [
        "# Question 8: Which movie has the highest Gross (money made)? You can sort the data to figure this out.\n",
        "\n",
        "dfs = df[['Gross', 'Series_Title']]\n",
        "dfs = dfs.sort_values(by= 'Gross', ascending = False)\n",
        "print(dfs)"
      ],
      "metadata": {
        "colab": {
          "base_uri": "https://localhost:8080/"
        },
        "id": "Z-q8_u4qRTI1",
        "outputId": "fe7029f0-d86d-44ce-d72f-e546abff5917"
      },
      "execution_count": null,
      "outputs": [
        {
          "output_type": "stream",
          "name": "stdout",
          "text": [
            "           Gross                                Series_Title\n",
            "477  936662225.0  Star Wars: Episode VII - The Force Awakens\n",
            "59   858373000.0                           Avengers: Endgame\n",
            "623  760507625.0                                      Avatar\n",
            "60   678815482.0                      Avengers: Infinity War\n",
            "652  659325379.0                                     Titanic\n",
            "..           ...                                         ...\n",
            "993          NaN                                      Blowup\n",
            "995          NaN                      Breakfast at Tiffany's\n",
            "996          NaN                                       Giant\n",
            "998          NaN                                    Lifeboat\n",
            "999          NaN                                The 39 Steps\n",
            "\n",
            "[1000 rows x 2 columns]\n"
          ]
        }
      ]
    },
    {
      "cell_type": "code",
      "source": [
        "# Question 9: Which movie got the most votes?\n",
        "\n",
        "dfs = df[['No_of_Votes', 'Series_Title']]\n",
        "dfs = dfs.sort_values(by= 'No_of_Votes', ascending = False)\n",
        "print(dfs)"
      ],
      "metadata": {
        "colab": {
          "base_uri": "https://localhost:8080/"
        },
        "id": "f1j6Yz6oRXOj",
        "outputId": "9012a8bf-8dec-440a-ef4e-c4102cef5a4c"
      },
      "execution_count": null,
      "outputs": [
        {
          "output_type": "stream",
          "name": "stdout",
          "text": [
            "     No_of_Votes                       Series_Title\n",
            "0        2343110           The Shawshank Redemption\n",
            "2        2303232                    The Dark Knight\n",
            "8        2067042                          Inception\n",
            "9        1854740                         Fight Club\n",
            "6        1826188                       Pulp Fiction\n",
            "..           ...                                ...\n",
            "570        25344                              Raazi\n",
            "718        25312  Scarface: The Shame of the Nation\n",
            "694        25229                 La planète sauvage\n",
            "721        25198                  God's Own Country\n",
            "264        25088                     Ba wang bie ji\n",
            "\n",
            "[1000 rows x 2 columns]\n"
          ]
        }
      ]
    },
    {
      "cell_type": "code",
      "source": [
        "# Question 10: Which movie had the best IMDb Rating?\n",
        "\n",
        "dfs = df[['IMDB_Rating', 'Series_Title']]\n",
        "dfs = dfs.sort_values(by= 'IMDB_Rating', ascending = False)\n",
        "print(dfs)"
      ],
      "metadata": {
        "colab": {
          "base_uri": "https://localhost:8080/"
        },
        "id": "dppTMd2ORbfM",
        "outputId": "856bfe5d-9c23-401e-b17c-f3c17a97fa7a"
      },
      "execution_count": null,
      "outputs": [
        {
          "output_type": "stream",
          "name": "stdout",
          "text": [
            "     IMDB_Rating              Series_Title\n",
            "0            9.3  The Shawshank Redemption\n",
            "1            9.2             The Godfather\n",
            "2            9.0           The Dark Knight\n",
            "3            9.0    The Godfather: Part II\n",
            "4            9.0              12 Angry Men\n",
            "..           ...                       ...\n",
            "912          7.6                Zombieland\n",
            "911          7.6        La piel que habito\n",
            "910          7.6                 Moneyball\n",
            "909          7.6                 Celda 211\n",
            "999          7.6              The 39 Steps\n",
            "\n",
            "[1000 rows x 2 columns]\n"
          ]
        }
      ]
    },
    {
      "cell_type": "code",
      "source": [
        "# Question 11: Which year had the most movie titles?\n",
        "\n",
        "dfs = df[['Released_Year', 'Series_Title']]\n",
        "dfs = dfs.groupby(['Released_Year']).count()\n",
        "dfs = dfs.sort_values(by= 'Series_Title', ascending = False)\n",
        "print(dfs)"
      ],
      "metadata": {
        "colab": {
          "base_uri": "https://localhost:8080/"
        },
        "id": "0eofKI7DRe_b",
        "outputId": "1ba00acd-8ef1-4d05-a046-f029b9b61738"
      },
      "execution_count": null,
      "outputs": [
        {
          "output_type": "stream",
          "name": "stdout",
          "text": [
            "               Series_Title\n",
            "Released_Year              \n",
            "2014                     32\n",
            "2004                     31\n",
            "2009                     29\n",
            "2016                     28\n",
            "2013                     28\n",
            "...                     ...\n",
            "1930                      1\n",
            "1926                      1\n",
            "1924                      1\n",
            "1922                      1\n",
            "PG                        1\n",
            "\n",
            "[100 rows x 1 columns]\n"
          ]
        }
      ]
    },
    {
      "cell_type": "code",
      "source": [
        "# Question 12: True or False? The average gross across all movies is $68,034,750.87.\n",
        "\n",
        "df['Gross'].sum()"
      ],
      "metadata": {
        "colab": {
          "base_uri": "https://localhost:8080/"
        },
        "id": "urrFB464RiNa",
        "outputId": "df3e659e-7cab-4d48-ab90-6b4db3fb662f"
      },
      "execution_count": null,
      "outputs": [
        {
          "output_type": "execute_result",
          "data": {
            "text/plain": [
              "56536877976.0"
            ]
          },
          "metadata": {},
          "execution_count": 87
        }
      ]
    },
    {
      "cell_type": "code",
      "source": [
        "# Question 13: What is the median gross across all movies?\n",
        "\n",
        "df['Gross'].median()"
      ],
      "metadata": {
        "colab": {
          "base_uri": "https://localhost:8080/"
        },
        "id": "oRXqgzyORoh2",
        "outputId": "62ae7f38-0e08-4247-91c5-0c4148f957aa"
      },
      "execution_count": null,
      "outputs": [
        {
          "output_type": "execute_result",
          "data": {
            "text/plain": [
              "23530892.0"
            ]
          },
          "metadata": {},
          "execution_count": 88
        }
      ]
    },
    {
      "cell_type": "code",
      "source": [
        "# Question 14: Is the gross profit from the movies in this data set right skewed, left skewed, or not skewed at all?\n",
        "\n",
        "gp_median = df['Gross'].median()\n",
        "gp_mean = df['Gross'].mean()\n",
        "print(gp_median, '  ', gp_mean)"
      ],
      "metadata": {
        "colab": {
          "base_uri": "https://localhost:8080/"
        },
        "id": "A0PjKe5KRxp8",
        "outputId": "c65895e9-9e5e-46c9-b79f-20801defe07c"
      },
      "execution_count": null,
      "outputs": [
        {
          "output_type": "stream",
          "name": "stdout",
          "text": [
            "23530892.0    68034750.87364621\n"
          ]
        }
      ]
    },
    {
      "cell_type": "code",
      "source": [
        "# Question 15: Create a new column called 'Gross Per Minute' that is created by dividing the gross money by the total runtime.\n",
        "# The new column should show how much money each movie made per minute.\n",
        "# Which movie made the most gross profit per minute?\n",
        "\n",
        "df['Gross Per Minute'] = (df['Gross'] / df['Runtime'])\n",
        "dfs = df.sort_values(by= 'Gross Per Minute', ascending = False)\n",
        "print(dfs)"
      ],
      "metadata": {
        "colab": {
          "base_uri": "https://localhost:8080/"
        },
        "id": "KrnDlDF1R23h",
        "outputId": "07cbdfe2-a6da-425a-b7f2-d5924fd50553"
      },
      "execution_count": null,
      "outputs": [
        {
          "output_type": "stream",
          "name": "stdout",
          "text": [
            "     Unnamed: 0                                        Poster_Link  \\\n",
            "477         477  https://m.media-amazon.com/images/M/MV5BOTAzOD...   \n",
            "891         891  https://m.media-amazon.com/images/M/MV5BMTEzNz...   \n",
            "43           43  https://m.media-amazon.com/images/M/MV5BYTYxNG...   \n",
            "59           59  https://m.media-amazon.com/images/M/MV5BMTc5MD...   \n",
            "623         623  https://m.media-amazon.com/images/M/MV5BMTYwOT...   \n",
            "..          ...                                                ...   \n",
            "993         993  https://m.media-amazon.com/images/M/MV5BYTE4YW...   \n",
            "995         995  https://m.media-amazon.com/images/M/MV5BNGEwMT...   \n",
            "996         996  https://m.media-amazon.com/images/M/MV5BODk3Yj...   \n",
            "998         998  https://m.media-amazon.com/images/M/MV5BZTBmMj...   \n",
            "999         999  https://m.media-amazon.com/images/M/MV5BMTY5OD...   \n",
            "\n",
            "                                   Series_Title Released_Year Certificate  \\\n",
            "477  Star Wars: Episode VII - The Force Awakens          2015           U   \n",
            "891                               Incredibles 2          2018          UA   \n",
            "43                                The Lion King          1994           U   \n",
            "59                            Avengers: Endgame          2019          UA   \n",
            "623                                      Avatar          2009          UA   \n",
            "..                                          ...           ...         ...   \n",
            "993                                      Blowup          1966           A   \n",
            "995                      Breakfast at Tiffany's          1961           A   \n",
            "996                                       Giant          1956           G   \n",
            "998                                    Lifeboat          1944         NaN   \n",
            "999                                The 39 Steps          1935         NaN   \n",
            "\n",
            "     Runtime                         Genre  IMDB_Rating  \\\n",
            "477      138     Action, Adventure, Sci-Fi          7.9   \n",
            "891      118  Animation, Action, Adventure          7.6   \n",
            "43        88   Animation, Adventure, Drama          8.5   \n",
            "59       181      Action, Adventure, Drama          8.4   \n",
            "623      162    Action, Adventure, Fantasy          7.8   \n",
            "..       ...                           ...          ...   \n",
            "993      111      Drama, Mystery, Thriller          7.6   \n",
            "995      115        Comedy, Drama, Romance          7.6   \n",
            "996      201                Drama, Western          7.6   \n",
            "998       97                    Drama, War          7.6   \n",
            "999       86      Crime, Mystery, Thriller          7.6   \n",
            "\n",
            "                                              Overview  Meta_score  \\\n",
            "477  As a new threat to the galaxy rises, Rey, a de...        80.0   \n",
            "891  The Incredibles family takes on a new mission ...        80.0   \n",
            "43   Lion prince Simba and his father are targeted ...        88.0   \n",
            "59   After the devastating events of Avengers: Infi...        78.0   \n",
            "623  A paraplegic Marine dispatched to the moon Pan...        83.0   \n",
            "..                                                 ...         ...   \n",
            "993  A fashion photographer unknowingly captures a ...        82.0   \n",
            "995  A young New York socialite becomes interested ...        76.0   \n",
            "996  Sprawling epic covering the life of a Texas ca...        84.0   \n",
            "998  Several survivors of a torpedoed merchant ship...        78.0   \n",
            "999  A man in London tries to help a counter-espion...        93.0   \n",
            "\n",
            "                   Director              Star1              Star2  \\\n",
            "477             J.J. Abrams       Daisy Ridley        John Boyega   \n",
            "891               Brad Bird    Craig T. Nelson       Holly Hunter   \n",
            "43             Roger Allers        Rob Minkoff  Matthew Broderick   \n",
            "59            Anthony Russo          Joe Russo  Robert Downey Jr.   \n",
            "623           James Cameron    Sam Worthington        Zoe Saldana   \n",
            "..                      ...                ...                ...   \n",
            "993  Michelangelo Antonioni     David Hemmings   Vanessa Redgrave   \n",
            "995           Blake Edwards     Audrey Hepburn     George Peppard   \n",
            "996          George Stevens   Elizabeth Taylor        Rock Hudson   \n",
            "998        Alfred Hitchcock  Tallulah Bankhead        John Hodiak   \n",
            "999        Alfred Hitchcock       Robert Donat  Madeleine Carroll   \n",
            "\n",
            "                Star3               Star4  No_of_Votes        Gross  \\\n",
            "477       Oscar Isaac    Domhnall Gleeson       860823  936662225.0   \n",
            "891      Sarah Vowell         Huck Milner       250057  608581744.0   \n",
            "43       Jeremy Irons    James Earl Jones       942045  422783777.0   \n",
            "59        Chris Evans        Mark Ruffalo       809955  858373000.0   \n",
            "623  Sigourney Weaver  Michelle Rodriguez      1118998  760507625.0   \n",
            "..                ...                 ...          ...          ...   \n",
            "993       Sarah Miles         John Castle        56513          NaN   \n",
            "995     Patricia Neal         Buddy Ebsen       166544          NaN   \n",
            "996        James Dean       Carroll Baker        34075          NaN   \n",
            "998     Walter Slezak      William Bendix        26471          NaN   \n",
            "999    Lucie Mannheim      Godfrey Tearle        51853          NaN   \n",
            "\n",
            "     Gross Per Minute  \n",
            "477      6.787407e+06  \n",
            "891      5.157472e+06  \n",
            "43       4.804361e+06  \n",
            "59       4.742392e+06  \n",
            "623      4.694492e+06  \n",
            "..                ...  \n",
            "993               NaN  \n",
            "995               NaN  \n",
            "996               NaN  \n",
            "998               NaN  \n",
            "999               NaN  \n",
            "\n",
            "[1000 rows x 18 columns]\n"
          ]
        }
      ]
    }
  ]
}