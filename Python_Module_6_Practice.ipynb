{
  "nbformat": 4,
  "nbformat_minor": 0,
  "metadata": {
    "colab": {
      "provenance": [],
      "authorship_tag": "ABX9TyOoOmFxJ9WXT/juEoB/bM2z",
      "include_colab_link": true
    },
    "kernelspec": {
      "name": "python3",
      "display_name": "Python 3"
    },
    "language_info": {
      "name": "python"
    }
  },
  "cells": [
    {
      "cell_type": "markdown",
      "metadata": {
        "id": "view-in-github",
        "colab_type": "text"
      },
      "source": [
        "<a href=\"https://colab.research.google.com/github/anarchy373/BTECH-Python-Projects/blob/main/Python_Module_6_Practice.ipynb\" target=\"_parent\"><img src=\"https://colab.research.google.com/assets/colab-badge.svg\" alt=\"Open In Colab\"/></a>"
      ]
    },
    {
      "cell_type": "code",
      "execution_count": null,
      "metadata": {
        "id": "4YZGZ7Ie7MvG"
      },
      "outputs": [],
      "source": [
        "import pandas as pd\n",
        "df = pd.read_csv('laptops.csv')"
      ]
    },
    {
      "cell_type": "code",
      "source": [
        "df.shape"
      ],
      "metadata": {
        "colab": {
          "base_uri": "https://localhost:8080/"
        },
        "id": "_6xEVRRf7cNs",
        "outputId": "9247138e-4d53-42c5-f681-72a0bfc7cd74"
      },
      "execution_count": null,
      "outputs": [
        {
          "output_type": "execute_result",
          "data": {
            "text/plain": [
              "(1322, 20)"
            ]
          },
          "metadata": {},
          "execution_count": 2
        }
      ]
    },
    {
      "cell_type": "code",
      "source": [
        "df.head()"
      ],
      "metadata": {
        "colab": {
          "base_uri": "https://localhost:8080/",
          "height": 382
        },
        "id": "gLFdQMHfC0-0",
        "outputId": "ac9aa2a5-b542-4463-f640-0b83e7c8c109"
      },
      "execution_count": null,
      "outputs": [
        {
          "output_type": "execute_result",
          "data": {
            "text/plain": [
              "  Company   TypeName  Inches screen_resolution  has_ips_panel  is_touchscreen  \\\n",
              "0     NaN  Ultrabook    13.3               NaN              1               0   \n",
              "1   Apple  Ultrabook    13.3               NaN              0               0   \n",
              "2      HP   Notebook    15.6           Full HD              0               0   \n",
              "3   Apple  Ultrabook    15.4               NaN              1               0   \n",
              "4   Apple  Ultrabook    13.3               NaN              1               0   \n",
              "\n",
              "   resolution_width  resolution_height cpu_brand cpu_name  cpu_speed   Ram  \\\n",
              "0            1600.0               2560     Intel  Core i5        2.3   8.0   \n",
              "1             900.0               1440     Intel  Core i5        1.8   8.0   \n",
              "2            1080.0               1920     Intel  Core i5        2.5   8.0   \n",
              "3            1800.0               2880     Intel  Core i7        2.7  16.0   \n",
              "4            1600.0               2560     Intel  Core i5        3.1   8.0   \n",
              "\n",
              "  memory_type  primary_storage gpu_brand                 gpu_name  OpSys  \\\n",
              "0         SSD              128     Intel   Iris Plus Graphics 640    NaN   \n",
              "1         NaN              128     Intel         HD Graphics 6000  macos   \n",
              "2         NaN              256     Intel          HD Graphics 620    NaN   \n",
              "3         NaN              512       AMD           Radeon Pro 455  macos   \n",
              "4         SSD              256     Intel   Iris Plus Graphics 650  macos   \n",
              "\n",
              "   Weight   Price  total_pixels  \n",
              "0     1.4   71379       4096000  \n",
              "1     1.3   47896       1296000  \n",
              "2     1.9   30636       2073600  \n",
              "3     1.8  135195       5184000  \n",
              "4     1.4   96096       4096000  "
            ],
            "text/html": [
              "\n",
              "  <div id=\"df-713d6d16-f461-4726-94a6-580ead2909bf\" class=\"colab-df-container\">\n",
              "    <div>\n",
              "<style scoped>\n",
              "    .dataframe tbody tr th:only-of-type {\n",
              "        vertical-align: middle;\n",
              "    }\n",
              "\n",
              "    .dataframe tbody tr th {\n",
              "        vertical-align: top;\n",
              "    }\n",
              "\n",
              "    .dataframe thead th {\n",
              "        text-align: right;\n",
              "    }\n",
              "</style>\n",
              "<table border=\"1\" class=\"dataframe\">\n",
              "  <thead>\n",
              "    <tr style=\"text-align: right;\">\n",
              "      <th></th>\n",
              "      <th>Company</th>\n",
              "      <th>TypeName</th>\n",
              "      <th>Inches</th>\n",
              "      <th>screen_resolution</th>\n",
              "      <th>has_ips_panel</th>\n",
              "      <th>is_touchscreen</th>\n",
              "      <th>resolution_width</th>\n",
              "      <th>resolution_height</th>\n",
              "      <th>cpu_brand</th>\n",
              "      <th>cpu_name</th>\n",
              "      <th>cpu_speed</th>\n",
              "      <th>Ram</th>\n",
              "      <th>memory_type</th>\n",
              "      <th>primary_storage</th>\n",
              "      <th>gpu_brand</th>\n",
              "      <th>gpu_name</th>\n",
              "      <th>OpSys</th>\n",
              "      <th>Weight</th>\n",
              "      <th>Price</th>\n",
              "      <th>total_pixels</th>\n",
              "    </tr>\n",
              "  </thead>\n",
              "  <tbody>\n",
              "    <tr>\n",
              "      <th>0</th>\n",
              "      <td>NaN</td>\n",
              "      <td>Ultrabook</td>\n",
              "      <td>13.3</td>\n",
              "      <td>NaN</td>\n",
              "      <td>1</td>\n",
              "      <td>0</td>\n",
              "      <td>1600.0</td>\n",
              "      <td>2560</td>\n",
              "      <td>Intel</td>\n",
              "      <td>Core i5</td>\n",
              "      <td>2.3</td>\n",
              "      <td>8.0</td>\n",
              "      <td>SSD</td>\n",
              "      <td>128</td>\n",
              "      <td>Intel</td>\n",
              "      <td>Iris Plus Graphics 640</td>\n",
              "      <td>NaN</td>\n",
              "      <td>1.4</td>\n",
              "      <td>71379</td>\n",
              "      <td>4096000</td>\n",
              "    </tr>\n",
              "    <tr>\n",
              "      <th>1</th>\n",
              "      <td>Apple</td>\n",
              "      <td>Ultrabook</td>\n",
              "      <td>13.3</td>\n",
              "      <td>NaN</td>\n",
              "      <td>0</td>\n",
              "      <td>0</td>\n",
              "      <td>900.0</td>\n",
              "      <td>1440</td>\n",
              "      <td>Intel</td>\n",
              "      <td>Core i5</td>\n",
              "      <td>1.8</td>\n",
              "      <td>8.0</td>\n",
              "      <td>NaN</td>\n",
              "      <td>128</td>\n",
              "      <td>Intel</td>\n",
              "      <td>HD Graphics 6000</td>\n",
              "      <td>macos</td>\n",
              "      <td>1.3</td>\n",
              "      <td>47896</td>\n",
              "      <td>1296000</td>\n",
              "    </tr>\n",
              "    <tr>\n",
              "      <th>2</th>\n",
              "      <td>HP</td>\n",
              "      <td>Notebook</td>\n",
              "      <td>15.6</td>\n",
              "      <td>Full HD</td>\n",
              "      <td>0</td>\n",
              "      <td>0</td>\n",
              "      <td>1080.0</td>\n",
              "      <td>1920</td>\n",
              "      <td>Intel</td>\n",
              "      <td>Core i5</td>\n",
              "      <td>2.5</td>\n",
              "      <td>8.0</td>\n",
              "      <td>NaN</td>\n",
              "      <td>256</td>\n",
              "      <td>Intel</td>\n",
              "      <td>HD Graphics 620</td>\n",
              "      <td>NaN</td>\n",
              "      <td>1.9</td>\n",
              "      <td>30636</td>\n",
              "      <td>2073600</td>\n",
              "    </tr>\n",
              "    <tr>\n",
              "      <th>3</th>\n",
              "      <td>Apple</td>\n",
              "      <td>Ultrabook</td>\n",
              "      <td>15.4</td>\n",
              "      <td>NaN</td>\n",
              "      <td>1</td>\n",
              "      <td>0</td>\n",
              "      <td>1800.0</td>\n",
              "      <td>2880</td>\n",
              "      <td>Intel</td>\n",
              "      <td>Core i7</td>\n",
              "      <td>2.7</td>\n",
              "      <td>16.0</td>\n",
              "      <td>NaN</td>\n",
              "      <td>512</td>\n",
              "      <td>AMD</td>\n",
              "      <td>Radeon Pro 455</td>\n",
              "      <td>macos</td>\n",
              "      <td>1.8</td>\n",
              "      <td>135195</td>\n",
              "      <td>5184000</td>\n",
              "    </tr>\n",
              "    <tr>\n",
              "      <th>4</th>\n",
              "      <td>Apple</td>\n",
              "      <td>Ultrabook</td>\n",
              "      <td>13.3</td>\n",
              "      <td>NaN</td>\n",
              "      <td>1</td>\n",
              "      <td>0</td>\n",
              "      <td>1600.0</td>\n",
              "      <td>2560</td>\n",
              "      <td>Intel</td>\n",
              "      <td>Core i5</td>\n",
              "      <td>3.1</td>\n",
              "      <td>8.0</td>\n",
              "      <td>SSD</td>\n",
              "      <td>256</td>\n",
              "      <td>Intel</td>\n",
              "      <td>Iris Plus Graphics 650</td>\n",
              "      <td>macos</td>\n",
              "      <td>1.4</td>\n",
              "      <td>96096</td>\n",
              "      <td>4096000</td>\n",
              "    </tr>\n",
              "  </tbody>\n",
              "</table>\n",
              "</div>\n",
              "    <div class=\"colab-df-buttons\">\n",
              "\n",
              "  <div class=\"colab-df-container\">\n",
              "    <button class=\"colab-df-convert\" onclick=\"convertToInteractive('df-713d6d16-f461-4726-94a6-580ead2909bf')\"\n",
              "            title=\"Convert this dataframe to an interactive table.\"\n",
              "            style=\"display:none;\">\n",
              "\n",
              "  <svg xmlns=\"http://www.w3.org/2000/svg\" height=\"24px\" viewBox=\"0 -960 960 960\">\n",
              "    <path d=\"M120-120v-720h720v720H120Zm60-500h600v-160H180v160Zm220 220h160v-160H400v160Zm0 220h160v-160H400v160ZM180-400h160v-160H180v160Zm440 0h160v-160H620v160ZM180-180h160v-160H180v160Zm440 0h160v-160H620v160Z\"/>\n",
              "  </svg>\n",
              "    </button>\n",
              "\n",
              "  <style>\n",
              "    .colab-df-container {\n",
              "      display:flex;\n",
              "      gap: 12px;\n",
              "    }\n",
              "\n",
              "    .colab-df-convert {\n",
              "      background-color: #E8F0FE;\n",
              "      border: none;\n",
              "      border-radius: 50%;\n",
              "      cursor: pointer;\n",
              "      display: none;\n",
              "      fill: #1967D2;\n",
              "      height: 32px;\n",
              "      padding: 0 0 0 0;\n",
              "      width: 32px;\n",
              "    }\n",
              "\n",
              "    .colab-df-convert:hover {\n",
              "      background-color: #E2EBFA;\n",
              "      box-shadow: 0px 1px 2px rgba(60, 64, 67, 0.3), 0px 1px 3px 1px rgba(60, 64, 67, 0.15);\n",
              "      fill: #174EA6;\n",
              "    }\n",
              "\n",
              "    .colab-df-buttons div {\n",
              "      margin-bottom: 4px;\n",
              "    }\n",
              "\n",
              "    [theme=dark] .colab-df-convert {\n",
              "      background-color: #3B4455;\n",
              "      fill: #D2E3FC;\n",
              "    }\n",
              "\n",
              "    [theme=dark] .colab-df-convert:hover {\n",
              "      background-color: #434B5C;\n",
              "      box-shadow: 0px 1px 3px 1px rgba(0, 0, 0, 0.15);\n",
              "      filter: drop-shadow(0px 1px 2px rgba(0, 0, 0, 0.3));\n",
              "      fill: #FFFFFF;\n",
              "    }\n",
              "  </style>\n",
              "\n",
              "    <script>\n",
              "      const buttonEl =\n",
              "        document.querySelector('#df-713d6d16-f461-4726-94a6-580ead2909bf button.colab-df-convert');\n",
              "      buttonEl.style.display =\n",
              "        google.colab.kernel.accessAllowed ? 'block' : 'none';\n",
              "\n",
              "      async function convertToInteractive(key) {\n",
              "        const element = document.querySelector('#df-713d6d16-f461-4726-94a6-580ead2909bf');\n",
              "        const dataTable =\n",
              "          await google.colab.kernel.invokeFunction('convertToInteractive',\n",
              "                                                    [key], {});\n",
              "        if (!dataTable) return;\n",
              "\n",
              "        const docLinkHtml = 'Like what you see? Visit the ' +\n",
              "          '<a target=\"_blank\" href=https://colab.research.google.com/notebooks/data_table.ipynb>data table notebook</a>'\n",
              "          + ' to learn more about interactive tables.';\n",
              "        element.innerHTML = '';\n",
              "        dataTable['output_type'] = 'display_data';\n",
              "        await google.colab.output.renderOutput(dataTable, element);\n",
              "        const docLink = document.createElement('div');\n",
              "        docLink.innerHTML = docLinkHtml;\n",
              "        element.appendChild(docLink);\n",
              "      }\n",
              "    </script>\n",
              "  </div>\n",
              "\n",
              "\n",
              "<div id=\"df-9e960802-3194-4b9a-99c8-1ba7204a1ed0\">\n",
              "  <button class=\"colab-df-quickchart\" onclick=\"quickchart('df-9e960802-3194-4b9a-99c8-1ba7204a1ed0')\"\n",
              "            title=\"Suggest charts.\"\n",
              "            style=\"display:none;\">\n",
              "\n",
              "<svg xmlns=\"http://www.w3.org/2000/svg\" height=\"24px\"viewBox=\"0 0 24 24\"\n",
              "     width=\"24px\">\n",
              "    <g>\n",
              "        <path d=\"M19 3H5c-1.1 0-2 .9-2 2v14c0 1.1.9 2 2 2h14c1.1 0 2-.9 2-2V5c0-1.1-.9-2-2-2zM9 17H7v-7h2v7zm4 0h-2V7h2v10zm4 0h-2v-4h2v4z\"/>\n",
              "    </g>\n",
              "</svg>\n",
              "  </button>\n",
              "\n",
              "<style>\n",
              "  .colab-df-quickchart {\n",
              "      --bg-color: #E8F0FE;\n",
              "      --fill-color: #1967D2;\n",
              "      --hover-bg-color: #E2EBFA;\n",
              "      --hover-fill-color: #174EA6;\n",
              "      --disabled-fill-color: #AAA;\n",
              "      --disabled-bg-color: #DDD;\n",
              "  }\n",
              "\n",
              "  [theme=dark] .colab-df-quickchart {\n",
              "      --bg-color: #3B4455;\n",
              "      --fill-color: #D2E3FC;\n",
              "      --hover-bg-color: #434B5C;\n",
              "      --hover-fill-color: #FFFFFF;\n",
              "      --disabled-bg-color: #3B4455;\n",
              "      --disabled-fill-color: #666;\n",
              "  }\n",
              "\n",
              "  .colab-df-quickchart {\n",
              "    background-color: var(--bg-color);\n",
              "    border: none;\n",
              "    border-radius: 50%;\n",
              "    cursor: pointer;\n",
              "    display: none;\n",
              "    fill: var(--fill-color);\n",
              "    height: 32px;\n",
              "    padding: 0;\n",
              "    width: 32px;\n",
              "  }\n",
              "\n",
              "  .colab-df-quickchart:hover {\n",
              "    background-color: var(--hover-bg-color);\n",
              "    box-shadow: 0 1px 2px rgba(60, 64, 67, 0.3), 0 1px 3px 1px rgba(60, 64, 67, 0.15);\n",
              "    fill: var(--button-hover-fill-color);\n",
              "  }\n",
              "\n",
              "  .colab-df-quickchart-complete:disabled,\n",
              "  .colab-df-quickchart-complete:disabled:hover {\n",
              "    background-color: var(--disabled-bg-color);\n",
              "    fill: var(--disabled-fill-color);\n",
              "    box-shadow: none;\n",
              "  }\n",
              "\n",
              "  .colab-df-spinner {\n",
              "    border: 2px solid var(--fill-color);\n",
              "    border-color: transparent;\n",
              "    border-bottom-color: var(--fill-color);\n",
              "    animation:\n",
              "      spin 1s steps(1) infinite;\n",
              "  }\n",
              "\n",
              "  @keyframes spin {\n",
              "    0% {\n",
              "      border-color: transparent;\n",
              "      border-bottom-color: var(--fill-color);\n",
              "      border-left-color: var(--fill-color);\n",
              "    }\n",
              "    20% {\n",
              "      border-color: transparent;\n",
              "      border-left-color: var(--fill-color);\n",
              "      border-top-color: var(--fill-color);\n",
              "    }\n",
              "    30% {\n",
              "      border-color: transparent;\n",
              "      border-left-color: var(--fill-color);\n",
              "      border-top-color: var(--fill-color);\n",
              "      border-right-color: var(--fill-color);\n",
              "    }\n",
              "    40% {\n",
              "      border-color: transparent;\n",
              "      border-right-color: var(--fill-color);\n",
              "      border-top-color: var(--fill-color);\n",
              "    }\n",
              "    60% {\n",
              "      border-color: transparent;\n",
              "      border-right-color: var(--fill-color);\n",
              "    }\n",
              "    80% {\n",
              "      border-color: transparent;\n",
              "      border-right-color: var(--fill-color);\n",
              "      border-bottom-color: var(--fill-color);\n",
              "    }\n",
              "    90% {\n",
              "      border-color: transparent;\n",
              "      border-bottom-color: var(--fill-color);\n",
              "    }\n",
              "  }\n",
              "</style>\n",
              "\n",
              "  <script>\n",
              "    async function quickchart(key) {\n",
              "      const quickchartButtonEl =\n",
              "        document.querySelector('#' + key + ' button');\n",
              "      quickchartButtonEl.disabled = true;  // To prevent multiple clicks.\n",
              "      quickchartButtonEl.classList.add('colab-df-spinner');\n",
              "      try {\n",
              "        const charts = await google.colab.kernel.invokeFunction(\n",
              "            'suggestCharts', [key], {});\n",
              "      } catch (error) {\n",
              "        console.error('Error during call to suggestCharts:', error);\n",
              "      }\n",
              "      quickchartButtonEl.classList.remove('colab-df-spinner');\n",
              "      quickchartButtonEl.classList.add('colab-df-quickchart-complete');\n",
              "    }\n",
              "    (() => {\n",
              "      let quickchartButtonEl =\n",
              "        document.querySelector('#df-9e960802-3194-4b9a-99c8-1ba7204a1ed0 button');\n",
              "      quickchartButtonEl.style.display =\n",
              "        google.colab.kernel.accessAllowed ? 'block' : 'none';\n",
              "    })();\n",
              "  </script>\n",
              "</div>\n",
              "    </div>\n",
              "  </div>\n"
            ]
          },
          "metadata": {},
          "execution_count": 3
        }
      ]
    },
    {
      "cell_type": "code",
      "source": [
        "null_flags = df.isna()\n",
        "columns_with_nulls = null_flags.any(axis=0)\n",
        "num_columns_with_nulls = columns_with_nulls.sum()\n",
        "\n",
        "print(f\"Number of columns with at least one null value: {num_columns_with_nulls}\")"
      ],
      "metadata": {
        "colab": {
          "base_uri": "https://localhost:8080/"
        },
        "id": "uExcx2_J79tc",
        "outputId": "f016cf80-0157-4e7c-fdb0-6a073fcfc343"
      },
      "execution_count": null,
      "outputs": [
        {
          "output_type": "stream",
          "name": "stdout",
          "text": [
            "Number of columns with at least one null value: 7\n"
          ]
        }
      ]
    },
    {
      "cell_type": "code",
      "source": [
        "# Drop rows with at least one null value\n",
        "df_cleaned = df.dropna()\n",
        "\n",
        "# Get the number of rows left\n",
        "num_rows_left = len(df_cleaned)\n",
        "\n",
        "print(f\"Number of rows after dropping rows with null values: {num_rows_left}\")"
      ],
      "metadata": {
        "colab": {
          "base_uri": "https://localhost:8080/"
        },
        "id": "Tg2p8AY48KXw",
        "outputId": "ea6cdc74-7d8b-4d80-f1d1-89960d693414"
      },
      "execution_count": null,
      "outputs": [
        {
          "output_type": "stream",
          "name": "stdout",
          "text": [
            "Number of rows after dropping rows with null values: 193\n"
          ]
        }
      ]
    },
    {
      "cell_type": "code",
      "source": [
        "import pandas as pd\n",
        "df = pd.read_csv('laptops.csv')\n",
        "\n",
        "null_counts = df.isnull().sum()\n",
        "column_with_most_nulls = null_counts.idxmax()\n",
        "\n",
        "print(f\"The column with the most null values is '{column_with_most_nulls}' with {null_counts[column_with_most_nulls]} null values.\")\n"
      ],
      "metadata": {
        "colab": {
          "base_uri": "https://localhost:8080/"
        },
        "id": "opVJ2rtV8101",
        "outputId": "582c97d9-8641-4d35-ab75-f656828ba688"
      },
      "execution_count": null,
      "outputs": [
        {
          "output_type": "stream",
          "name": "stdout",
          "text": [
            "The column with the most null values is 'memory_type' with 932 null values.\n"
          ]
        }
      ]
    },
    {
      "cell_type": "code",
      "source": [
        "numeric_summary = df.describe()\n",
        "\n",
        "# This will generate summary statistics for all numerical columns in the DataFrame\n",
        "print(numeric_summary)"
      ],
      "metadata": {
        "colab": {
          "base_uri": "https://localhost:8080/"
        },
        "id": "XTTKrgYKADYL",
        "outputId": "a0c57277-7560-4363-cfb3-227038a37347"
      },
      "execution_count": null,
      "outputs": [
        {
          "output_type": "stream",
          "name": "stdout",
          "text": [
            "            Inches  has_ips_panel  is_touchscreen  resolution_width  \\\n",
            "count  1322.000000    1322.000000     1322.000000       1216.000000   \n",
            "mean     15.122542       0.281392        0.146747       1074.299342   \n",
            "std       1.945084       0.449848        0.353988        286.711732   \n",
            "min      10.100000       0.000000        0.000000        768.000000   \n",
            "25%      14.000000       0.000000        0.000000        900.000000   \n",
            "50%      15.600000       0.000000        0.000000       1080.000000   \n",
            "75%      15.600000       1.000000        0.000000       1080.000000   \n",
            "max      35.600000       1.000000        1.000000       2160.000000   \n",
            "\n",
            "       resolution_height    cpu_speed          Ram  primary_storage  \\\n",
            "count        1322.000000  1322.000000  1243.000000      1322.000000   \n",
            "mean         1895.639939     2.301664     9.198713       396.865356   \n",
            "std           494.741031     0.507130     7.031441       419.775480   \n",
            "min          1366.000000     0.900000     1.000000     -2048.000000   \n",
            "25%          1600.000000     2.000000     4.000000       256.000000   \n",
            "50%          1920.000000     2.500000     8.000000       256.000000   \n",
            "75%          1920.000000     2.700000     8.000000       512.000000   \n",
            "max          3840.000000     3.600000    80.000000      2048.000000   \n",
            "\n",
            "            Weight         Price  total_pixels  \n",
            "count  1249.000000  1.322000e+03  1.322000e+03  \n",
            "mean      2.078383  5.838318e+04  2.170972e+06  \n",
            "std       0.796887  5.045083e+04  1.393255e+06  \n",
            "min       0.000000 -1.427900e+05  1.049088e+06  \n",
            "25%       1.500000  3.118475e+04  1.440000e+06  \n",
            "50%       2.000000  5.109600e+04  2.073600e+06  \n",
            "75%       2.300000  7.863225e+04  2.073600e+06  \n",
            "max      11.100000  1.016580e+06  8.294400e+06  \n"
          ]
        }
      ]
    },
    {
      "cell_type": "code",
      "source": [
        "# Replace negative values with their absolute values\n",
        "df['primary_storage'] = df['primary_storage'].abs()\n",
        "\n",
        "# Calculate the average amount of primary storage\n",
        "average_storage = df['primary_storage'].mean()\n",
        "\n",
        "print(f\"The average amount of primary storage in a laptop is {average_storage} units.\")"
      ],
      "metadata": {
        "colab": {
          "base_uri": "https://localhost:8080/"
        },
        "id": "ilcwJLaTBzq6",
        "outputId": "b0892b41-d4c1-492d-f458-d7e2c88b03a3"
      },
      "execution_count": null,
      "outputs": [
        {
          "output_type": "stream",
          "name": "stdout",
          "text": [
            "The average amount of primary storage in a laptop is 447.5824508320726 units.\n"
          ]
        }
      ]
    },
    {
      "cell_type": "code",
      "source": [
        "# Calculate the average price in USD\n",
        "average_price_usd = df['Price'].mean()\n",
        "\n",
        "print(f\"The average price of a laptop in USD is {average_price_usd:.2f} USD.\")"
      ],
      "metadata": {
        "id": "02FcmbfhCr7B",
        "colab": {
          "base_uri": "https://localhost:8080/"
        },
        "outputId": "9990a1be-2491-4b6a-f7ed-7e9adf0ad3e7"
      },
      "execution_count": null,
      "outputs": [
        {
          "output_type": "stream",
          "name": "stdout",
          "text": [
            "The average price of a laptop in USD is 58383.18 USD.\n"
          ]
        }
      ]
    },
    {
      "cell_type": "code",
      "source": [
        "# Impute missing resolution_width values\n",
        "df['resolution_width'].fillna(df['total_pixels'] / df['resolution_height'], inplace=True)\n",
        "\n",
        "# Calculate the average resolution width\n",
        "average_resolution_width = df['resolution_width'].mean()\n",
        "\n",
        "print(f\"The average resolution width of a laptop is {average_resolution_width:.2f} pixels.\")"
      ],
      "metadata": {
        "colab": {
          "base_uri": "https://localhost:8080/"
        },
        "id": "oNzoyKELEsim",
        "outputId": "15707a1b-54bc-4892-aca0-357962e3891b"
      },
      "execution_count": null,
      "outputs": [
        {
          "output_type": "stream",
          "name": "stdout",
          "text": [
            "The average resolution width of a laptop is 1071.43 pixels.\n"
          ]
        }
      ]
    },
    {
      "cell_type": "code",
      "source": [
        "# Drop the \"memory_type\" column if it contains null values\n",
        "df.dropna(subset=['memory_type'], inplace=True)\n",
        "\n",
        "# Drop all rows with null values in any column\n",
        "df_without_nulls = df.dropna()\n",
        "\n",
        "# Count the number of rows left\n",
        "rows_left = len(df_without_nulls)\n",
        "\n",
        "print(f\"After dropping the 'memory_type' column with null values, {rows_left} rows are left.\")"
      ],
      "metadata": {
        "colab": {
          "base_uri": "https://localhost:8080/"
        },
        "id": "jWBFVKLAG2jx",
        "outputId": "5de09fa1-7f7d-42f2-8b5e-90e7460b0fce"
      },
      "execution_count": null,
      "outputs": [
        {
          "output_type": "stream",
          "name": "stdout",
          "text": [
            "After dropping the 'memory_type' column with null values, 193 rows are left.\n"
          ]
        }
      ]
    },
    {
      "cell_type": "code",
      "source": [
        "unique_values = df['Company'].unique()\n",
        "print(unique_values)"
      ],
      "metadata": {
        "id": "KKFb_CO0OpXk",
        "outputId": "4aea65bd-3c55-40ac-d716-215cd30d2845",
        "colab": {
          "base_uri": "https://localhost:8080/"
        }
      },
      "execution_count": null,
      "outputs": [
        {
          "output_type": "stream",
          "name": "stdout",
          "text": [
            "[nan 'Apple' 'acer' 'Acer' 'hp' 'Lenovo' 'Dell' 'HP' 'dell' 'MSI' 'Asus'\n",
            " 'asus' 'microsoft' 'lenovo' 'msi' 'Toshiba' 'toshiba' 'samsung'\n",
            " 'Mediacom' 'Razer' 'Microsoft' 'Vero' 'Fujitsu' 'Samsung']\n"
          ]
        }
      ]
    },
    {
      "cell_type": "code",
      "source": [
        "# Standardize capitalization of the 'Company' column using .str.title()\n",
        "df['Company'] = df['Company'].str.title()\n",
        "\n",
        "# Count the number of computers from the company 'Apple'\n",
        "apple_computers_count = (df['Company'] == 'Apple').sum()\n",
        "\n",
        "# Print the result\n",
        "print(f'Number of computers from Apple: {apple_computers_count}')"
      ],
      "metadata": {
        "colab": {
          "base_uri": "https://localhost:8080/"
        },
        "id": "9Ux-nJUTIk2x",
        "outputId": "c02edcc2-86a4-409d-f74a-f7f5f0711b82"
      },
      "execution_count": null,
      "outputs": [
        {
          "output_type": "stream",
          "name": "stdout",
          "text": [
            "Number of computers from Apple: 6\n"
          ]
        }
      ]
    },
    {
      "cell_type": "code",
      "source": [
        "import numpy as np\n",
        "df = pd.read_csv('laptops.csv')\n",
        "\n",
        "# Calculate the z-scores for the 'Price' column\n",
        "z_scores = np.abs((df['Price'] - df['Price'].mean()) / df['Price'].std())\n",
        "\n",
        "# Create a filter to identify outliers with a z-score greater than 3\n",
        "outlier_filter = z_scores > 3\n",
        "\n",
        "# Get the count of outliers\n",
        "outlier_count = outlier_filter.sum()\n",
        "\n",
        "# Print the outliers and the count\n",
        "print(\"Outliers:\")\n",
        "print(df[outlier_filter])\n",
        "print(f\"\\nNumber of outliers: {outlier_count}\")"
      ],
      "metadata": {
        "colab": {
          "base_uri": "https://localhost:8080/"
        },
        "id": "uj-emwPoKfua",
        "outputId": "98361824-c24b-4627-f1d7-a55ea147ce75"
      },
      "execution_count": null,
      "outputs": [
        {
          "output_type": "stream",
          "name": "stdout",
          "text": [
            "Outliers:\n",
            "     Company            TypeName  Inches screen_resolution  has_ips_panel  \\\n",
            "189    Razer              Gaming    17.3       4k Ultra HD              0   \n",
            "595      NaN            Notebook    15.6       4k Ultra HD              1   \n",
            "612     Asus           Ultrabook    14.0           Full HD              0   \n",
            "673       hp         Workstation    17.3           Full HD              0   \n",
            "709     Acer              Gaming    17.3           Full HD              1   \n",
            "727       hp         Workstation    17.3           Full HD              1   \n",
            "765     dell              Gaming    15.6           Full HD              0   \n",
            "771   Lenovo  2 in 1 Convertible    14.0               NaN              1   \n",
            "806    Razer              Gaming    17.3       4k Ultra HD              0   \n",
            "1025    Dell           Ultrabook    13.3         Quad HD +              0   \n",
            "1036     NaN              Gaming    17.3           Full HD              1   \n",
            "1106      hp         Workstation    17.3           Full HD              1   \n",
            "1172    Dell           Ultrabook    13.3         Quad HD +              0   \n",
            "1212    Dell  2 in 1 Convertible    17.3           Full HD              0   \n",
            "\n",
            "      is_touchscreen  resolution_width  resolution_height cpu_brand  \\\n",
            "189                1            2160.0               3840     Intel   \n",
            "595                0            2160.0               3840     Intel   \n",
            "612                0            1080.0               1920     Intel   \n",
            "673                0            1080.0               1920     Intel   \n",
            "709                0               NaN               1920     Intel   \n",
            "727                0            1080.0               1920     Intel   \n",
            "765                0            1080.0               1920     Intel   \n",
            "771                1            1440.0               2560     Intel   \n",
            "806                1            2160.0               3840     Intel   \n",
            "1025               1            1800.0               3200     Inetl   \n",
            "1036               0               NaN               1920     Intel   \n",
            "1106               0            1080.0               1920     Intel   \n",
            "1172               1            1800.0               3200     Intel   \n",
            "1212               1            1080.0               1920     Intel   \n",
            "\n",
            "           cpu_name  cpu_speed   Ram memory_type  primary_storage gpu_brand  \\\n",
            "189         Core i7        2.9  32.0         NaN            -1024    Nvidia   \n",
            "595   Xeon E3-1535M        3.1  32.0         NaN             1024    Nvidia   \n",
            "612         Core i7        2.7  16.0         SSD              512     Intel   \n",
            "673         Core i7        2.8   8.0         NaN              500    Nvidia   \n",
            "709         Core i7        2.6   NaN         NaN              128    Nvidia   \n",
            "727   Xeon E3-1535M        2.9  16.0         NaN              256    Nvidia   \n",
            "765         Core i5        2.5   8.0         NaN              256    Nvidia   \n",
            "771         Core i5        2.5   8.0         SSD              256     Intel   \n",
            "806         Core i7        2.9  32.0         NaN              512    Nvidia   \n",
            "1025        Core i7        2.7  40.0         NaN             1024     Intel   \n",
            "1036        Core i7        2.7  64.0         NaN             1024    Nvidia   \n",
            "1106        Core i7        2.6   8.0         SSD              256    Nvidia   \n",
            "1172        Core i7        2.7  16.0         NaN              512     Intel   \n",
            "1212        Core i7        2.7  16.0         NaN              512    Nvidia   \n",
            "\n",
            "               gpu_name    OpSys  Weight    Price  total_pixels  \n",
            "189    GeForce GTX 1080  windows     3.5   324955       8294400  \n",
            "595       Quadro M2200M      NaN     2.5   261019       8294400  \n",
            "612     HD Graphics 620  windows    11.1  -101232       2073600  \n",
            "673        Quadro M1200  windows     3.1  1016580       2073600  \n",
            "709    GeForce GTX 1060  windows     4.2  -103097       2073600  \n",
            "727       Quadro M2000M  windows     3.0   233846       2073600  \n",
            "765    GeForce GTX 1050  windows     2.6   524810       2073600  \n",
            "771     HD Graphics 620  windows     1.4  -124142       3686400  \n",
            "806    GeForce GTX 1080  windows     3.5   292987       8294400  \n",
            "1025    HD Graphics 620  windows     1.2  -120093       5760000  \n",
            "1036   GeForce GTX 980       NaN     3.6   211788       2073600  \n",
            "1106      Quadro M3000M  windows     3.0   210424       2073600  \n",
            "1172    HD Graphics 620  windows     1.2  -142790       5760000  \n",
            "1212      GeForce 940MX  windows     2.8   -95851       2073600  \n",
            "\n",
            "Number of outliers: 14\n"
          ]
        }
      ]
    },
    {
      "cell_type": "code",
      "source": [
        "df = pd.read_csv('laptops.csv')\n",
        "\n",
        "# Drop duplicates based on the specified subset of columns\n",
        "subset_columns = ['Company', 'cpu_name', 'gpu_name', 'total_pixels', 'Ram']\n",
        "df_no_duplicates = df.drop_duplicates(subset=subset_columns)\n",
        "\n",
        "# Count the rows in the resulting DataFrame\n",
        "row_count = len(df_no_duplicates)\n",
        "\n",
        "# Print the resulting DataFrame and the number of rows\n",
        "print(\"DataFrame without duplicates:\")\n",
        "print(df_no_duplicates)\n",
        "print(f\"\\nNumber of rows left: {row_count}\")"
      ],
      "metadata": {
        "colab": {
          "base_uri": "https://localhost:8080/"
        },
        "id": "zfXi48vVN0Th",
        "outputId": "1d8db53d-470e-4877-eed3-0608bc305951"
      },
      "execution_count": null,
      "outputs": [
        {
          "output_type": "stream",
          "name": "stdout",
          "text": [
            "DataFrame without duplicates:\n",
            "     Company            TypeName  Inches screen_resolution  has_ips_panel  \\\n",
            "0        NaN           Ultrabook    13.3               NaN              1   \n",
            "1      Apple           Ultrabook    13.3               NaN              0   \n",
            "2         HP            Notebook    15.6           Full HD              0   \n",
            "3      Apple           Ultrabook    15.4               NaN              1   \n",
            "4      Apple           Ultrabook    13.3               NaN              1   \n",
            "...      ...                 ...     ...               ...            ...   \n",
            "1301     NaN           Ultrabook    15.6           Full HD              1   \n",
            "1312  Lenovo  2 in 1 Convertible    13.3         Quad HD +              1   \n",
            "1315      hp           Ultrabook    15.6           Full HD              0   \n",
            "1320     NaN            Notebook    15.6           Full HD              0   \n",
            "1321    Dell              Gaming    15.6           Full HD              0   \n",
            "\n",
            "      is_touchscreen  resolution_width  resolution_height cpu_brand cpu_name  \\\n",
            "0                  0            1600.0               2560     Intel  Core i5   \n",
            "1                  0             900.0               1440     Intel  Core i5   \n",
            "2                  0            1080.0               1920     Intel  Core i5   \n",
            "3                  0            1800.0               2880     Intel  Core i7   \n",
            "4                  0            1600.0               2560     Intel  Core i5   \n",
            "...              ...               ...                ...       ...      ...   \n",
            "1301               0            1080.0               1920     Intel  Core i5   \n",
            "1312               1            1800.0               3200     Intel  Core i7   \n",
            "1315               0            1080.0               1920     Ietnl  Core i7   \n",
            "1320               0            1080.0               1920     Itenl  Core i5   \n",
            "1321               0            1080.0               1920     Intel  Core i7   \n",
            "\n",
            "      cpu_speed   Ram memory_type  primary_storage gpu_brand  \\\n",
            "0           2.3   8.0         SSD              128     Intel   \n",
            "1           1.8   8.0         NaN              128     Intel   \n",
            "2           2.5   8.0         NaN              256     Intel   \n",
            "3           2.7  16.0         NaN              512       AMD   \n",
            "4           3.1   8.0         SSD              256     Intel   \n",
            "...         ...   ...         ...              ...       ...   \n",
            "1301        1.6   NaN         NaN              256     Intel   \n",
            "1312        2.5  16.0         NaN              512     Intel   \n",
            "1315        2.5   NaN         SSD              256       AMD   \n",
            "1320        2.6  20.0         NaN              256       AMD   \n",
            "1321        2.8  40.0         NaN              128    Nvidia   \n",
            "\n",
            "                     gpu_name    OpSys  Weight   Price  total_pixels  \n",
            "0      Iris Plus Graphics 640      NaN     1.4   71379       4096000  \n",
            "1            HD Graphics 6000    macos     1.3   47896       1296000  \n",
            "2             HD Graphics 620      NaN     1.9   30636       2073600  \n",
            "3              Radeon Pro 455    macos     1.8  135195       5184000  \n",
            "4      Iris Plus Graphics 650    macos     1.4   96096       4096000  \n",
            "...                       ...      ...     ...     ...           ...  \n",
            "1301         UHD Graphics 620      NaN     1.9   58403       2073600  \n",
            "1312          HD Graphics 520  windows     1.3   79867       5760000  \n",
            "1315          Radeon R7 M365X  windows     1.8   69104       2073600  \n",
            "1320           Radeon R7 M465      NaN     1.8   71875       2073600  \n",
            "1321      GeForce GTX 1050 Ti  windows     2.6   71875       2073600  \n",
            "\n",
            "[864 rows x 20 columns]\n",
            "\n",
            "Number of rows left: 864\n"
          ]
        }
      ]
    }
  ]
}